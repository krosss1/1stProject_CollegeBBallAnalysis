{
 "cells": [
  {
   "cell_type": "markdown",
   "metadata": {},
   "source": [
    "# DU Data Viz - Project Proposal\n",
    "## Team Baldies"
   ]
  },
  {
   "cell_type": "markdown",
   "metadata": {},
   "source": [
    "## {Project Title}"
   ]
  },
  {
   "cell_type": "markdown",
   "metadata": {},
   "source": [
    "### {your project description, two or 3 plain english sentences describing the question, the data, the goal}"
   ]
  },
  {
   "cell_type": "markdown",
   "metadata": {},
   "source": [
    "   ## {your team members}\n",
    "    - {team member name 1}{email}\n",
    "    - {team member name 1}{email}\n",
    "    - {team member name 1}{email}"
   ]
  },
  {
   "cell_type": "markdown",
   "metadata": {},
   "source": [
    "## Git Repo Url\n",
    "You can find our git repo [here](https://du.bootcampcontent.com/baross77/baldies_project.git)."
   ]
  },
  {
   "cell_type": "markdown",
   "metadata": {},
   "source": [
    "## Research Question:\n",
    "{summarize your questions. Include relevant inspiration(i.e. links to articles,recent regulaton)}"
   ]
  },
  {
   "cell_type": "markdown",
   "metadata": {},
   "source": [
    "## Data Sets\n",
    "{list your datasets, or describe them:\n",
    "where possible, give us links to the pages with the data in it}\n",
    "    \n",
    "    -{dataset1}\n",
    "    -{dataset2}"
   ]
  },
  {
   "cell_type": "markdown",
   "metadata": {},
   "source": [
    "## Task Planning\n",
    "\n",
    "{try to sketch a plan of the seperate pieces of work that need to be done;\n",
    "for example\n",
    "1. get the data from data 1     __@Nate__\n",
    "2. analyze the data from data 1 __@Nate__\n",
    "3. get the data from data 2\n",
    "4. merge the two datas\n",
    "5. analyze the data\n",
    "\n",
    "or more \"universal\" tasks:\n",
    "\n",
    "    -prep the \"final polished presentation\" ipynb\n",
    "    -.....\n"
   ]
  },
  {
   "cell_type": "code",
   "execution_count": null,
   "metadata": {},
   "outputs": [],
   "source": []
  }
 ],
 "metadata": {
  "kernelspec": {
   "display_name": "Python 3",
   "language": "python",
   "name": "python3"
  },
  "language_info": {
   "codemirror_mode": {
    "name": "ipython",
    "version": 3
   },
   "file_extension": ".py",
   "mimetype": "text/x-python",
   "name": "python",
   "nbconvert_exporter": "python",
   "pygments_lexer": "ipython3",
   "version": "3.7.1"
  }
 },
 "nbformat": 4,
 "nbformat_minor": 2
}
