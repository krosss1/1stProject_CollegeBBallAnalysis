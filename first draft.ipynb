{
 "cells": [
  {
   "cell_type": "code",
   "execution_count": 2,
   "metadata": {},
   "outputs": [],
   "source": [
    "#notebook to be used for cleaning and organizing data\n",
    "%matplotlib notebook \n",
    "#can use inline if we prefer"
   ]
  },
  {
   "cell_type": "code",
   "execution_count": 3,
   "metadata": {},
   "outputs": [],
   "source": [
    "import matplotlib.pyplot as plt\n",
    "import pandas as pd\n",
    "\n",
    "#pull and read rankings\n",
    "rankings_excel = 'HighSchool_100_Rankings.xlsx'\n",
    "rankings = pd.read_excel(rankings_excel)\n",
    "#rankings.head() - test worked\n",
    "\n",
    "#pull and read team data\n",
    "team_excel = 'Team_Data.xlsx'\n",
    "team = pd.read_excel(team_excel)\n",
    "del team['Hometown']\n",
    "#team.head() - test worked"
   ]
  },
  {
   "cell_type": "code",
   "execution_count": 4,
   "metadata": {},
   "outputs": [
    {
     "data": {
      "text/html": [
       "<div>\n",
       "<style scoped>\n",
       "    .dataframe tbody tr th:only-of-type {\n",
       "        vertical-align: middle;\n",
       "    }\n",
       "\n",
       "    .dataframe tbody tr th {\n",
       "        vertical-align: top;\n",
       "    }\n",
       "\n",
       "    .dataframe thead th {\n",
       "        text-align: right;\n",
       "    }\n",
       "</style>\n",
       "<table border=\"1\" class=\"dataframe\">\n",
       "  <thead>\n",
       "    <tr style=\"text-align: right;\">\n",
       "      <th></th>\n",
       "      <th>Year</th>\n",
       "      <th>RSCI</th>\n",
       "      <th>Player Name</th>\n",
       "      <th>Position</th>\n",
       "      <th>College</th>\n",
       "      <th>City</th>\n",
       "      <th>State</th>\n",
       "    </tr>\n",
       "  </thead>\n",
       "  <tbody>\n",
       "    <tr>\n",
       "      <th>0</th>\n",
       "      <td>2018</td>\n",
       "      <td>1</td>\n",
       "      <td>R.J. Barrett</td>\n",
       "      <td>SF</td>\n",
       "      <td>Duke</td>\n",
       "      <td>Montverde</td>\n",
       "      <td>FL</td>\n",
       "    </tr>\n",
       "    <tr>\n",
       "      <th>1</th>\n",
       "      <td>2018</td>\n",
       "      <td>2</td>\n",
       "      <td>Cameron Reddish</td>\n",
       "      <td>SG</td>\n",
       "      <td>Duke</td>\n",
       "      <td>Norristown</td>\n",
       "      <td>PA</td>\n",
       "    </tr>\n",
       "    <tr>\n",
       "      <th>2</th>\n",
       "      <td>2018</td>\n",
       "      <td>3</td>\n",
       "      <td>Nassir Little</td>\n",
       "      <td>SF</td>\n",
       "      <td>North Carolina</td>\n",
       "      <td>Orlando</td>\n",
       "      <td>FL</td>\n",
       "    </tr>\n",
       "    <tr>\n",
       "      <th>3</th>\n",
       "      <td>2018</td>\n",
       "      <td>4</td>\n",
       "      <td>Zion Williamson</td>\n",
       "      <td>PF</td>\n",
       "      <td>Duke</td>\n",
       "      <td>Spartanburg</td>\n",
       "      <td>SC</td>\n",
       "    </tr>\n",
       "    <tr>\n",
       "      <th>4</th>\n",
       "      <td>2018</td>\n",
       "      <td>5</td>\n",
       "      <td>Romeo Langford</td>\n",
       "      <td>SG</td>\n",
       "      <td>Indiana</td>\n",
       "      <td>New Albany</td>\n",
       "      <td>IN</td>\n",
       "    </tr>\n",
       "  </tbody>\n",
       "</table>\n",
       "</div>"
      ],
      "text/plain": [
       "   Year  RSCI      Player Name Position         College         City State\n",
       "0  2018     1     R.J. Barrett       SF            Duke    Montverde    FL\n",
       "1  2018     2  Cameron Reddish       SG            Duke   Norristown    PA\n",
       "2  2018     3    Nassir Little       SF  North Carolina      Orlando    FL\n",
       "3  2018     4  Zion Williamson       PF            Duke  Spartanburg    SC\n",
       "4  2018     5   Romeo Langford       SG         Indiana   New Albany    IN"
      ]
     },
     "execution_count": 4,
     "metadata": {},
     "output_type": "execute_result"
    }
   ],
   "source": [
    "#split hometown into two columns, rename and add back into rankings\n",
    "hometown_split = rankings['Hometown'].str.split(', ',expand=True)\n",
    "rankings['City'] = hometown_split[0]\n",
    "rankings['State'] = hometown_split[1]\n",
    "del rankings['Hometown']\n",
    "rankings.head()"
   ]
  },
  {
   "cell_type": "code",
   "execution_count": 54,
   "metadata": {},
   "outputs": [
    {
     "data": {
      "text/plain": [
       "College\n",
       "Kentucky          57\n",
       "Duke              49\n",
       "Kansas            37\n",
       "North Carolina    36\n",
       "UCLA              35\n",
       "Name: College, dtype: int64"
      ]
     },
     "execution_count": 54,
     "metadata": {},
     "output_type": "execute_result"
    }
   ],
   "source": [
    "#school data counts\n",
    "schools = rankings.groupby('College')\n",
    "schools_count = schools['College'].count()\n",
    "schools_count.sort_values(ascending=False).head()"
   ]
  },
  {
   "cell_type": "code",
   "execution_count": 75,
   "metadata": {},
   "outputs": [
    {
     "data": {
      "text/plain": [
       "Year\n",
       "2006     99\n",
       "2007    100\n",
       "2008    101\n",
       "2009     99\n",
       "2010    100\n",
       "2011    100\n",
       "2012    100\n",
       "2013    101\n",
       "2014    100\n",
       "2015    100\n",
       "2016    101\n",
       "2017    100\n",
       "2018    101\n",
       "Name: Year, dtype: int64"
      ]
     },
     "execution_count": 75,
     "metadata": {},
     "output_type": "execute_result"
    }
   ],
   "source": [
    "#team percent of year\n",
    "year = rankings.groupby('Year')\n",
    "rankings_year = year['Year'].count()\n",
    "rankings_year"
   ]
  },
  {
   "cell_type": "code",
   "execution_count": 76,
   "metadata": {},
   "outputs": [
    {
     "data": {
      "text/plain": [
       "College         Year\n",
       "Kentucky        2017    8\n",
       "North Carolina  2006    6\n",
       "Kentucky        2013    6\n",
       "Duke            2017    6\n",
       "                2011    6\n",
       "Name: Year, dtype: int64"
      ]
     },
     "execution_count": 76,
     "metadata": {},
     "output_type": "execute_result"
    }
   ],
   "source": [
    "#team count of year\n",
    "school_year = rankings.groupby('College')['Year'].value_counts()\n",
    "school_year.sort_values(ascending=False).head()"
   ]
  },
  {
   "cell_type": "code",
   "execution_count": 96,
   "metadata": {},
   "outputs": [
    {
     "data": {
      "text/plain": [
       "Year\n",
       "2017    8.000000\n",
       "2013    5.940594\n",
       "2009    5.050505\n",
       "2010    5.000000\n",
       "2016    4.950495\n",
       "2018    4.950495\n",
       "2011    4.000000\n",
       "2012    4.000000\n",
       "2014    4.000000\n",
       "2015    4.000000\n",
       "2006    3.030303\n",
       "2007    2.000000\n",
       "2008    1.980198\n",
       "Name: Year, dtype: float64"
      ]
     },
     "execution_count": 96,
     "metadata": {},
     "output_type": "execute_result"
    }
   ],
   "source": [
    "school_year_percent = (school_year / rankings_year)*100\n",
    "school_year_percent['Kentucky']"
   ]
  },
  {
   "cell_type": "code",
   "execution_count": 83,
   "metadata": {},
   "outputs": [
    {
     "data": {
      "text/plain": [
       "College\n",
       "Kentucky          4.377880\n",
       "Duke              3.763441\n",
       "Kansas            2.841782\n",
       "North Carolina    2.764977\n",
       "UCLA              2.688172\n",
       "Name: College, dtype: float64"
      ]
     },
     "execution_count": 83,
     "metadata": {},
     "output_type": "execute_result"
    }
   ],
   "source": [
    "#team percent of total\n",
    "school_percent = (schools_count / len(rankings))*100\n",
    "school_percent.sort_values(ascending=False).head()"
   ]
  },
  {
   "cell_type": "code",
   "execution_count": 49,
   "metadata": {},
   "outputs": [
    {
     "data": {
      "text/plain": [
       "College  State\n",
       "Akron    PA        1\n",
       "Alabama  AL       10\n",
       "         GA        4\n",
       "         FL        1\n",
       "         KS        1\n",
       "Name: State, dtype: int64"
      ]
     },
     "execution_count": 49,
     "metadata": {},
     "output_type": "execute_result"
    }
   ],
   "source": [
    "#school state count - shows how many were taken by each school per state\n",
    "school_state = rankings.groupby('College')['State'].value_counts()\n",
    "school_state.head()"
   ]
  },
  {
   "cell_type": "code",
   "execution_count": 88,
   "metadata": {},
   "outputs": [
    {
     "data": {
      "text/plain": [
       "College  State\n",
       "Akron    PA       100.000000\n",
       "Alabama  AL        52.631579\n",
       "         GA        21.052632\n",
       "         FL         5.263158\n",
       "         KS         5.263158\n",
       "dtype: float64"
      ]
     },
     "execution_count": 88,
     "metadata": {},
     "output_type": "execute_result"
    }
   ],
   "source": [
    "#team state percent of same team total\n",
    "school_state_percent = (school_state / schools_count)*100\n",
    "school_state_percent.head()\n",
    "#to call a specific team use ['Team Name']\n",
    "\n",
    "#team_df = pd.DataFrame({'Team Count': schools_count,'School_percent': school_percent,'Team State': team_state,'% of Team from State': team_state_percent})\n",
    "#team_df"
   ]
  },
  {
   "cell_type": "code",
   "execution_count": 95,
   "metadata": {},
   "outputs": [
    {
     "data": {
      "text/plain": [
       "'52.670000%'"
      ]
     },
     "execution_count": 95,
     "metadata": {},
     "output_type": "execute_result"
    }
   ],
   "source": [
    "count_per_school = (school_state / schools_count)\n",
    "# count_per_school_str = count_per_school.str\n",
    "# count_per_school.str.format('hi')\n",
    "\n",
    "f'{0.5267:%}'"
   ]
  },
  {
   "cell_type": "code",
   "execution_count": 11,
   "metadata": {},
   "outputs": [
    {
     "data": {
      "text/plain": [
       "Position\n",
       "PF    306\n",
       "SG    301\n",
       "SF    265\n",
       "PG    227\n",
       "C     188\n",
       "CG     10\n",
       "CF      5\n",
       "Name: Position, dtype: int64"
      ]
     },
     "execution_count": 11,
     "metadata": {},
     "output_type": "execute_result"
    }
   ],
   "source": [
    "#positions count\n",
    "position = rankings.groupby('Position')\n",
    "position_count = position['Position'].count()\n",
    "position_count.sort_values(ascending=False)"
   ]
  },
  {
   "cell_type": "code",
   "execution_count": 85,
   "metadata": {},
   "outputs": [
    {
     "data": {
      "text/plain": [
       "Position\n",
       "PF    23.502304\n",
       "SG    23.118280\n",
       "SF    20.353303\n",
       "PG    17.434716\n",
       "C     14.439324\n",
       "CG     0.768049\n",
       "CF     0.384025\n",
       "Name: Position, dtype: float64"
      ]
     },
     "execution_count": 85,
     "metadata": {},
     "output_type": "execute_result"
    }
   ],
   "source": [
    "#position percent of total\n",
    "position_percent = (position_count / len(rankings))*100\n",
    "position_percent.sort_values(ascending=False)"
   ]
  },
  {
   "cell_type": "code",
   "execution_count": 101,
   "metadata": {},
   "outputs": [
    {
     "data": {
      "text/plain": [
       "Position  Year\n",
       "C         2006    19\n",
       "          2008    19\n",
       "          2012    17\n",
       "          2015    17\n",
       "          2017    17\n",
       "Name: Year, dtype: int64"
      ]
     },
     "execution_count": 101,
     "metadata": {},
     "output_type": "execute_result"
    }
   ],
   "source": [
    "#position count of year\n",
    "position_count_year = rankings.groupby('Position')['Year'].value_counts()\n",
    "position_count_year.head()"
   ]
  },
  {
   "cell_type": "code",
   "execution_count": 100,
   "metadata": {},
   "outputs": [
    {
     "data": {
      "text/plain": [
       "Position  Year\n",
       "C         2006    19.191919\n",
       "          2008    18.811881\n",
       "          2012    17.000000\n",
       "          2015    17.000000\n",
       "          2017    17.000000\n",
       "Name: Year, dtype: float64"
      ]
     },
     "execution_count": 100,
     "metadata": {},
     "output_type": "execute_result"
    }
   ],
   "source": [
    "#percentage of position in a given year\n",
    "position_percent_year = (position_count_year/rankings_year)*100\n",
    "position_percent_year.head()"
   ]
  },
  {
   "cell_type": "code",
   "execution_count": 13,
   "metadata": {},
   "outputs": [
    {
     "data": {
      "text/plain": [
       "State\n",
       "CA    139\n",
       "TX     94\n",
       "GA     79\n",
       "FL     72\n",
       "VA     70\n",
       "Name: State, dtype: int64"
      ]
     },
     "execution_count": 13,
     "metadata": {},
     "output_type": "execute_result"
    }
   ],
   "source": [
    "#state count\n",
    "state = rankings.groupby('State')\n",
    "state_count = state['State'].count()\n",
    "state_count.sort_values(ascending=False).head()"
   ]
  },
  {
   "cell_type": "code",
   "execution_count": 110,
   "metadata": {},
   "outputs": [
    {
     "data": {
      "text/plain": [
       "State\n",
       "CA    0.106759\n",
       "TX    0.072197\n",
       "GA    0.060676\n",
       "FL    0.055300\n",
       "VA    0.053763\n",
       "Name: State, dtype: float64"
      ]
     },
     "execution_count": 110,
     "metadata": {},
     "output_type": "execute_result"
    }
   ],
   "source": [
    "#state percent of total\n",
    "state_percent = state_count / len(rankings)\n",
    "state_percent.sort_values(ascending=False).head()"
   ]
  },
  {
   "cell_type": "code",
   "execution_count": 114,
   "metadata": {},
   "outputs": [
    {
     "data": {
      "text/plain": [
       "Year  State\n",
       "2006  CA       14\n",
       "      TX        8\n",
       "      NJ        7\n",
       "      TN        7\n",
       "      VA        6\n",
       "Name: State, dtype: int64"
      ]
     },
     "execution_count": 114,
     "metadata": {},
     "output_type": "execute_result"
    }
   ],
   "source": [
    "#count by state in a given year\n",
    "state_year = rankings.groupby('Year')['State'].value_counts()\n",
    "state_year.head()"
   ]
  },
  {
   "cell_type": "code",
   "execution_count": 116,
   "metadata": {},
   "outputs": [
    {
     "data": {
      "text/plain": [
       "Year  State\n",
       "2006  CA       0.141414\n",
       "      TX       0.080808\n",
       "      NJ       0.070707\n",
       "      TN       0.070707\n",
       "      VA       0.060606\n",
       "dtype: float64"
      ]
     },
     "execution_count": 116,
     "metadata": {},
     "output_type": "execute_result"
    }
   ],
   "source": [
    "#state percent in a given year\n",
    "state_percent_year = state_year / rankings_year\n",
    "state_percent_year.head()"
   ]
  },
  {
   "cell_type": "code",
   "execution_count": 53,
   "metadata": {},
   "outputs": [
    {
     "data": {
      "text/plain": [
       "State  College      \n",
       "AL     Alabama          10\n",
       "       Indiana           3\n",
       "       Kentucky          2\n",
       "       Connecticut       1\n",
       "       Florida State     1\n",
       "Name: College, dtype: int64"
      ]
     },
     "execution_count": 53,
     "metadata": {},
     "output_type": "execute_result"
    }
   ],
   "source": [
    "#state count by team\n",
    "state_count_team = rankings.groupby('State')['College'].value_counts()\n",
    "state_count_team.head()"
   ]
  },
  {
   "cell_type": "code",
   "execution_count": 115,
   "metadata": {},
   "outputs": [
    {
     "data": {
      "text/plain": [
       "City\n",
       "Chicago            30\n",
       "Mouth of Wilson    24\n",
       "Memphis            19\n",
       "Indianapolis       18\n",
       "Henderson          17\n",
       "Name: City, dtype: int64"
      ]
     },
     "execution_count": 115,
     "metadata": {},
     "output_type": "execute_result"
    }
   ],
   "source": [
    "#city count\n",
    "city = rankings.groupby('City')\n",
    "city_count = city['City'].count()\n",
    "city_count.sort_values(ascending=False).head()"
   ]
  },
  {
   "cell_type": "code",
   "execution_count": 44,
   "metadata": {},
   "outputs": [],
   "source": [
    "#team freshman count by year\n",
    "#team freshman/sophmore count by year\n",
    "#team upperclassmen count by year\n",
    "#team ranking in top 100 count by year\n",
    "#team ranking in top 100 total\n",
    "#team occurrences final four\n",
    "#team occurrences championships"
   ]
  },
  {
   "cell_type": "code",
   "execution_count": null,
   "metadata": {},
   "outputs": [],
   "source": []
  }
 ],
 "metadata": {
  "kernelspec": {
   "display_name": "Python 3",
   "language": "python",
   "name": "python3"
  },
  "language_info": {
   "codemirror_mode": {
    "name": "ipython",
    "version": 3
   },
   "file_extension": ".py",
   "mimetype": "text/x-python",
   "name": "python",
   "nbconvert_exporter": "python",
   "pygments_lexer": "ipython3",
   "version": "3.7.1"
  }
 },
 "nbformat": 4,
 "nbformat_minor": 2
}
