{
 "cells": [
  {
   "cell_type": "code",
   "execution_count": 132,
   "metadata": {},
   "outputs": [],
   "source": [
    "#notebook to be used for cleaning and organizing data\n",
    "%matplotlib notebook \n",
    "#can use inline if we prefer"
   ]
  },
  {
   "cell_type": "code",
   "execution_count": 133,
   "metadata": {},
   "outputs": [],
   "source": [
    "import matplotlib.pyplot as plt\n",
    "import pandas as pd\n",
    "\n",
    "#pull and read rankings\n",
    "rankings_excel = 'HighSchool_100_Rankings.xlsx'\n",
    "rankings = pd.read_excel(rankings_excel)\n",
    "#rankings.head() - test worked\n",
    "\n",
    "#pull and read team data\n",
    "team_excel = 'Team_Data.xlsx'\n",
    "team = pd.read_excel(team_excel)\n",
    "del team['Hometown']\n",
    "#team.head() - test worked"
   ]
  },
  {
   "cell_type": "code",
   "execution_count": 134,
   "metadata": {},
   "outputs": [
    {
     "data": {
      "text/html": [
       "<div>\n",
       "<style scoped>\n",
       "    .dataframe tbody tr th:only-of-type {\n",
       "        vertical-align: middle;\n",
       "    }\n",
       "\n",
       "    .dataframe tbody tr th {\n",
       "        vertical-align: top;\n",
       "    }\n",
       "\n",
       "    .dataframe thead th {\n",
       "        text-align: right;\n",
       "    }\n",
       "</style>\n",
       "<table border=\"1\" class=\"dataframe\">\n",
       "  <thead>\n",
       "    <tr style=\"text-align: right;\">\n",
       "      <th></th>\n",
       "      <th>Year</th>\n",
       "      <th>RSCI</th>\n",
       "      <th>Player Name</th>\n",
       "      <th>Position</th>\n",
       "      <th>College</th>\n",
       "      <th>City</th>\n",
       "      <th>State</th>\n",
       "    </tr>\n",
       "  </thead>\n",
       "  <tbody>\n",
       "    <tr>\n",
       "      <th>0</th>\n",
       "      <td>2018</td>\n",
       "      <td>1</td>\n",
       "      <td>R.J. Barrett</td>\n",
       "      <td>SF</td>\n",
       "      <td>Duke</td>\n",
       "      <td>Montverde</td>\n",
       "      <td>FL</td>\n",
       "    </tr>\n",
       "    <tr>\n",
       "      <th>1</th>\n",
       "      <td>2018</td>\n",
       "      <td>2</td>\n",
       "      <td>Cameron Reddish</td>\n",
       "      <td>SG</td>\n",
       "      <td>Duke</td>\n",
       "      <td>Norristown</td>\n",
       "      <td>PA</td>\n",
       "    </tr>\n",
       "    <tr>\n",
       "      <th>2</th>\n",
       "      <td>2018</td>\n",
       "      <td>3</td>\n",
       "      <td>Nassir Little</td>\n",
       "      <td>SF</td>\n",
       "      <td>North Carolina</td>\n",
       "      <td>Orlando</td>\n",
       "      <td>FL</td>\n",
       "    </tr>\n",
       "    <tr>\n",
       "      <th>3</th>\n",
       "      <td>2018</td>\n",
       "      <td>4</td>\n",
       "      <td>Zion Williamson</td>\n",
       "      <td>PF</td>\n",
       "      <td>Duke</td>\n",
       "      <td>Spartanburg</td>\n",
       "      <td>SC</td>\n",
       "    </tr>\n",
       "    <tr>\n",
       "      <th>4</th>\n",
       "      <td>2018</td>\n",
       "      <td>5</td>\n",
       "      <td>Romeo Langford</td>\n",
       "      <td>SG</td>\n",
       "      <td>Indiana</td>\n",
       "      <td>New Albany</td>\n",
       "      <td>IN</td>\n",
       "    </tr>\n",
       "  </tbody>\n",
       "</table>\n",
       "</div>"
      ],
      "text/plain": [
       "   Year  RSCI      Player Name Position         College         City State\n",
       "0  2018     1     R.J. Barrett       SF            Duke    Montverde    FL\n",
       "1  2018     2  Cameron Reddish       SG            Duke   Norristown    PA\n",
       "2  2018     3    Nassir Little       SF  North Carolina      Orlando    FL\n",
       "3  2018     4  Zion Williamson       PF            Duke  Spartanburg    SC\n",
       "4  2018     5   Romeo Langford       SG         Indiana   New Albany    IN"
      ]
     },
     "execution_count": 134,
     "metadata": {},
     "output_type": "execute_result"
    }
   ],
   "source": [
    "#split hometown into two columns, rename and add back into rankings\n",
    "hometown_split = rankings['Hometown'].str.split(', ',expand=True)\n",
    "rankings['City'] = hometown_split[0]\n",
    "rankings['State'] = hometown_split[1]\n",
    "del rankings['Hometown']\n",
    "rankings.head()"
   ]
  },
  {
   "cell_type": "code",
   "execution_count": 110,
   "metadata": {},
   "outputs": [
    {
     "data": {
      "text/plain": [
       "College\n",
       "Kentucky          57\n",
       "Duke              49\n",
       "Kansas            37\n",
       "North Carolina    36\n",
       "UCLA              35\n",
       "Name: College, dtype: int64"
      ]
     },
     "execution_count": 110,
     "metadata": {},
     "output_type": "execute_result"
    }
   ],
   "source": [
    "#school data counts\n",
    "schools = rankings.groupby('College')\n",
    "schools_count = schools['College'].count()\n",
    "schools_count.sort_values(ascending=False).head()\n",
    "#team percent of total\n",
    "#team percent of year\n",
    "#team count of year\n",
    "#team state count\n",
    "#team state percent of same team total\n"
   ]
  },
  {
   "cell_type": "code",
   "execution_count": 111,
   "metadata": {},
   "outputs": [
    {
     "data": {
      "text/plain": [
       "Position\n",
       "PF    306\n",
       "SG    301\n",
       "SF    265\n",
       "PG    227\n",
       "C     188\n",
       "CG     10\n",
       "CF      5\n",
       "Name: Position, dtype: int64"
      ]
     },
     "execution_count": 111,
     "metadata": {},
     "output_type": "execute_result"
    }
   ],
   "source": [
    "#positions count\n",
    "position = rankings.groupby('Position')\n",
    "position_count = position['Position'].count()\n",
    "position_count.sort_values(ascending=False)\n",
    "#position percent of total\n",
    "#position percent of year"
   ]
  },
  {
   "cell_type": "code",
   "execution_count": 112,
   "metadata": {},
   "outputs": [
    {
     "data": {
      "text/plain": [
       "State\n",
       "CA    139\n",
       "TX     94\n",
       "GA     79\n",
       "FL     72\n",
       "VA     70\n",
       "Name: State, dtype: int64"
      ]
     },
     "execution_count": 112,
     "metadata": {},
     "output_type": "execute_result"
    }
   ],
   "source": [
    "#state count\n",
    "state = rankings.groupby('State')\n",
    "state_count = state['State'].count()\n",
    "state_count.sort_values(ascending=False).head()\n",
    "#state percent of total\n",
    "#state percent of year\n",
    "#state count by team"
   ]
  },
  {
   "cell_type": "code",
   "execution_count": 115,
   "metadata": {},
   "outputs": [
    {
     "data": {
      "text/plain": [
       "City\n",
       "Chicago            30\n",
       "Mouth of Wilson    24\n",
       "Memphis            19\n",
       "Indianapolis       18\n",
       "Henderson          17\n",
       "Name: City, dtype: int64"
      ]
     },
     "execution_count": 115,
     "metadata": {},
     "output_type": "execute_result"
    }
   ],
   "source": [
    "#city count\n",
    "city = rankings.groupby('City')\n",
    "city_count = city['City'].count()\n",
    "city_count.sort_values(ascending=False).head()"
   ]
  },
  {
   "cell_type": "code",
   "execution_count": null,
   "metadata": {},
   "outputs": [],
   "source": [
    "#team freshman count by year\n",
    "#team freshman/sophmore count by year\n",
    "#team upperclassmen count by year\n",
    "#team ranking in top 100 count by year\n",
    "#team ranking in top 100 total\n",
    "#team occurrences final four\n",
    "#team occurrences championships"
   ]
  }
 ],
 "metadata": {
  "kernelspec": {
   "display_name": "Python 3",
   "language": "python",
   "name": "python3"
  },
  "language_info": {
   "codemirror_mode": {
    "name": "ipython",
    "version": 3
   },
   "file_extension": ".py",
   "mimetype": "text/x-python",
   "name": "python",
   "nbconvert_exporter": "python",
   "pygments_lexer": "ipython3",
   "version": "3.7.1"
  }
 },
 "nbformat": 4,
 "nbformat_minor": 2
}
