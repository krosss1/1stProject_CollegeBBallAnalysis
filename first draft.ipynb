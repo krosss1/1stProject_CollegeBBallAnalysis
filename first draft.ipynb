{
 "cells": [
  {
   "cell_type": "code",
   "execution_count": 2,
   "metadata": {},
   "outputs": [],
   "source": [
    "#notebook to be used for cleaning and organizing data\n",
    "%matplotlib notebook \n",
    "#can use inline if we prefer"
   ]
  },
  {
   "cell_type": "code",
   "execution_count": 3,
   "metadata": {},
   "outputs": [],
   "source": [
    "import matplotlib.pyplot as plt\n",
    "import pandas as pd\n",
    "\n",
    "#pull and read rankings\n",
    "rankings_excel = 'HighSchool_100_Rankings.xlsx'\n",
    "rankings = pd.read_excel(rankings_excel)\n",
    "#rankings.head() - test worked\n",
    "\n",
    "#pull and read team data\n",
    "team_excel = 'Team_Data.xlsx'\n",
    "team = pd.read_excel(team_excel)\n",
    "del team['Hometown']\n",
    "#team.head() - test worked"
   ]
  },
  {
   "cell_type": "code",
   "execution_count": 4,
   "metadata": {},
   "outputs": [
    {
     "data": {
      "text/html": [
       "<div>\n",
       "<style scoped>\n",
       "    .dataframe tbody tr th:only-of-type {\n",
       "        vertical-align: middle;\n",
       "    }\n",
       "\n",
       "    .dataframe tbody tr th {\n",
       "        vertical-align: top;\n",
       "    }\n",
       "\n",
       "    .dataframe thead th {\n",
       "        text-align: right;\n",
       "    }\n",
       "</style>\n",
       "<table border=\"1\" class=\"dataframe\">\n",
       "  <thead>\n",
       "    <tr style=\"text-align: right;\">\n",
       "      <th></th>\n",
       "      <th>Year</th>\n",
       "      <th>RSCI</th>\n",
       "      <th>Player Name</th>\n",
       "      <th>Position</th>\n",
       "      <th>College</th>\n",
       "      <th>City</th>\n",
       "      <th>State</th>\n",
       "    </tr>\n",
       "  </thead>\n",
       "  <tbody>\n",
       "    <tr>\n",
       "      <th>0</th>\n",
       "      <td>2018</td>\n",
       "      <td>1</td>\n",
       "      <td>R.J. Barrett</td>\n",
       "      <td>SF</td>\n",
       "      <td>Duke</td>\n",
       "      <td>Montverde</td>\n",
       "      <td>FL</td>\n",
       "    </tr>\n",
       "    <tr>\n",
       "      <th>1</th>\n",
       "      <td>2018</td>\n",
       "      <td>2</td>\n",
       "      <td>Cameron Reddish</td>\n",
       "      <td>SG</td>\n",
       "      <td>Duke</td>\n",
       "      <td>Norristown</td>\n",
       "      <td>PA</td>\n",
       "    </tr>\n",
       "    <tr>\n",
       "      <th>2</th>\n",
       "      <td>2018</td>\n",
       "      <td>3</td>\n",
       "      <td>Nassir Little</td>\n",
       "      <td>SF</td>\n",
       "      <td>North Carolina</td>\n",
       "      <td>Orlando</td>\n",
       "      <td>FL</td>\n",
       "    </tr>\n",
       "    <tr>\n",
       "      <th>3</th>\n",
       "      <td>2018</td>\n",
       "      <td>4</td>\n",
       "      <td>Zion Williamson</td>\n",
       "      <td>PF</td>\n",
       "      <td>Duke</td>\n",
       "      <td>Spartanburg</td>\n",
       "      <td>SC</td>\n",
       "    </tr>\n",
       "    <tr>\n",
       "      <th>4</th>\n",
       "      <td>2018</td>\n",
       "      <td>5</td>\n",
       "      <td>Romeo Langford</td>\n",
       "      <td>SG</td>\n",
       "      <td>Indiana</td>\n",
       "      <td>New Albany</td>\n",
       "      <td>IN</td>\n",
       "    </tr>\n",
       "  </tbody>\n",
       "</table>\n",
       "</div>"
      ],
      "text/plain": [
       "   Year  RSCI      Player Name Position         College         City State\n",
       "0  2018     1     R.J. Barrett       SF            Duke    Montverde    FL\n",
       "1  2018     2  Cameron Reddish       SG            Duke   Norristown    PA\n",
       "2  2018     3    Nassir Little       SF  North Carolina      Orlando    FL\n",
       "3  2018     4  Zion Williamson       PF            Duke  Spartanburg    SC\n",
       "4  2018     5   Romeo Langford       SG         Indiana   New Albany    IN"
      ]
     },
     "execution_count": 4,
     "metadata": {},
     "output_type": "execute_result"
    }
   ],
   "source": [
    "#split hometown into two columns, rename and add back into rankings\n",
    "hometown_split = rankings['Hometown'].str.split(', ',expand=True)\n",
    "rankings['City'] = hometown_split[0]\n",
    "rankings['State'] = hometown_split[1]\n",
    "del rankings['Hometown']\n",
    "rankings.head()"
   ]
  },
  {
   "cell_type": "code",
   "execution_count": 15,
   "metadata": {},
   "outputs": [
    {
     "data": {
      "text/plain": [
       "College\n",
       "Kentucky          57\n",
       "Duke              49\n",
       "Kansas            37\n",
       "North Carolina    36\n",
       "UCLA              35\n",
       "Name: College, dtype: int64"
      ]
     },
     "execution_count": 15,
     "metadata": {},
     "output_type": "execute_result"
    }
   ],
   "source": [
    "#school data counts\n",
    "schools = rankings.groupby('College')\n",
    "schools_count = schools['College'].count()\n",
    "schools_count.sort_values(ascending=False).head()"
   ]
  },
  {
   "cell_type": "code",
   "execution_count": 20,
   "metadata": {},
   "outputs": [
    {
     "data": {
      "text/plain": [
       "College\n",
       "Kentucky          0.043779\n",
       "Duke              0.037634\n",
       "Kansas            0.028418\n",
       "North Carolina    0.027650\n",
       "UCLA              0.026882\n",
       "Name: College, dtype: float64"
      ]
     },
     "execution_count": 20,
     "metadata": {},
     "output_type": "execute_result"
    }
   ],
   "source": [
    "#team percent of total\n",
    "school_percent = schools_count / len(rankings)\n",
    "school_percent.sort_values(ascending=False).head()\n",
    "#team percent of year\n",
    "#team count of year\n",
    "school"
   ]
  },
  {
   "cell_type": "code",
   "execution_count": 46,
   "metadata": {},
   "outputs": [
    {
     "data": {
      "text/plain": [
       "College           State  \n",
       "Akron             PA          1\n",
       "Alabama           AL         10\n",
       "                  GA          4\n",
       "                  FL          1\n",
       "                  KS          1\n",
       "                  LA          1\n",
       "                  MS          1\n",
       "                  VA          1\n",
       "Arizona           CA         17\n",
       "                  AZ          3\n",
       "                  NV          3\n",
       "                  PA          3\n",
       "                  FL          1\n",
       "                  GA          1\n",
       "                  MA          1\n",
       "                  MD          1\n",
       "                  NJ          1\n",
       "                  NY          1\n",
       "                  TX          1\n",
       "                  UT          1\n",
       "                  VA          1\n",
       "Arizona State     CA          3\n",
       "                  AZ          1\n",
       "                  FL          1\n",
       "                  Finland     1\n",
       "                  GA          1\n",
       "                  NC          1\n",
       "                  NH          1\n",
       "                  TX          1\n",
       "                  WA          1\n",
       "                             ..\n",
       "Washington        MO          1\n",
       "                  NY          1\n",
       "                  OR          1\n",
       "Washington State  CA          1\n",
       "West Virginia     OH          4\n",
       "                  NY          2\n",
       "                  WV          2\n",
       "                  CT          1\n",
       "                  IL          1\n",
       "                  MD          1\n",
       "                  NJ          1\n",
       "                  PA          1\n",
       "Western Kentucky  LA          2\n",
       "                  KY          1\n",
       "                  NJ          1\n",
       "Wisconsin         WI          5\n",
       "                  MN          3\n",
       "                  IA          1\n",
       "Xavier            CA          2\n",
       "                  IN          2\n",
       "                  OH          2\n",
       "                  VA          2\n",
       "                  FL          1\n",
       "                  KY          1\n",
       "                  NH          1\n",
       "class of 2016     Canada      1\n",
       "prep school       CA          1\n",
       "                  Canada      1\n",
       "                  FL          1\n",
       "                  NY          1\n",
       "Name: State, Length: 668, dtype: int64"
      ]
     },
     "execution_count": 46,
     "metadata": {},
     "output_type": "execute_result"
    }
   ],
   "source": [
    "#school state count - shows how many were taken by each school per state\n",
    "school_state = rankings.groupby('College')['State'].value_counts()\n",
    "school_state"
   ]
  },
  {
   "cell_type": "code",
   "execution_count": 47,
   "metadata": {},
   "outputs": [
    {
     "data": {
      "text/plain": [
       "College           State  \n",
       "Akron             PA         1.000000\n",
       "Alabama           AL         0.526316\n",
       "                  GA         0.210526\n",
       "                  FL         0.052632\n",
       "                  KS         0.052632\n",
       "                  LA         0.052632\n",
       "                  MS         0.052632\n",
       "                  VA         0.052632\n",
       "Arizona           CA         0.485714\n",
       "                  AZ         0.085714\n",
       "                  NV         0.085714\n",
       "                  PA         0.085714\n",
       "                  FL         0.028571\n",
       "                  GA         0.028571\n",
       "                  MA         0.028571\n",
       "                  MD         0.028571\n",
       "                  NJ         0.028571\n",
       "                  NY         0.028571\n",
       "                  TX         0.028571\n",
       "                  UT         0.028571\n",
       "                  VA         0.028571\n",
       "Arizona State     CA         0.272727\n",
       "                  AZ         0.090909\n",
       "                  FL         0.090909\n",
       "                  Finland    0.090909\n",
       "                  GA         0.090909\n",
       "                  NC         0.090909\n",
       "                  NH         0.090909\n",
       "                  TX         0.090909\n",
       "                  WA         0.090909\n",
       "                               ...   \n",
       "Washington        MO         0.052632\n",
       "                  NY         0.052632\n",
       "                  OR         0.052632\n",
       "Washington State  CA         1.000000\n",
       "West Virginia     OH         0.307692\n",
       "                  NY         0.153846\n",
       "                  WV         0.153846\n",
       "                  CT         0.076923\n",
       "                  IL         0.076923\n",
       "                  MD         0.076923\n",
       "                  NJ         0.076923\n",
       "                  PA         0.076923\n",
       "Western Kentucky  LA         0.500000\n",
       "                  KY         0.250000\n",
       "                  NJ         0.250000\n",
       "Wisconsin         WI         0.555556\n",
       "                  MN         0.333333\n",
       "                  IA         0.111111\n",
       "Xavier            CA         0.181818\n",
       "                  IN         0.181818\n",
       "                  OH         0.181818\n",
       "                  VA         0.181818\n",
       "                  FL         0.090909\n",
       "                  KY         0.090909\n",
       "                  NH         0.090909\n",
       "class of 2016     Canada     1.000000\n",
       "prep school       CA         0.250000\n",
       "                  Canada     0.250000\n",
       "                  FL         0.250000\n",
       "                  NY         0.250000\n",
       "Length: 668, dtype: float64"
      ]
     },
     "execution_count": 47,
     "metadata": {},
     "output_type": "execute_result"
    }
   ],
   "source": [
    "#team state percent of same team total\n",
    "school_state_percent = school_state / schools_count\n",
    "school_state_percent\n",
    "#to call a specific team use ['Team Name']\n",
    "\n",
    "#team_df = pd.DataFrame({'Team Count': schools_count,'School_percent': school_percent,'Team State': team_state,'% of Team from State': team_state_percent})\n",
    "#team_df"
   ]
  },
  {
   "cell_type": "code",
   "execution_count": 11,
   "metadata": {},
   "outputs": [
    {
     "data": {
      "text/plain": [
       "Position\n",
       "PF    306\n",
       "SG    301\n",
       "SF    265\n",
       "PG    227\n",
       "C     188\n",
       "CG     10\n",
       "CF      5\n",
       "Name: Position, dtype: int64"
      ]
     },
     "execution_count": 11,
     "metadata": {},
     "output_type": "execute_result"
    }
   ],
   "source": [
    "#positions count\n",
    "position = rankings.groupby('Position')\n",
    "position_count = position['Position'].count()\n",
    "position_count.sort_values(ascending=False)"
   ]
  },
  {
   "cell_type": "code",
   "execution_count": 29,
   "metadata": {},
   "outputs": [
    {
     "data": {
      "text/plain": [
       "Position\n",
       "PF    0.235023\n",
       "SG    0.231183\n",
       "SF    0.203533\n",
       "PG    0.174347\n",
       "C     0.144393\n",
       "CG    0.007680\n",
       "CF    0.003840\n",
       "Name: Position, dtype: float64"
      ]
     },
     "execution_count": 29,
     "metadata": {},
     "output_type": "execute_result"
    }
   ],
   "source": [
    "#position percent of total\n",
    "position_percent = position_count / len(rankings)\n",
    "position_percent.sort_values(ascending=False)"
   ]
  },
  {
   "cell_type": "code",
   "execution_count": 45,
   "metadata": {},
   "outputs": [
    {
     "data": {
      "text/plain": [
       "Position  Year\n",
       "C         2006    19\n",
       "          2008    19\n",
       "          2012    17\n",
       "          2015    17\n",
       "          2017    17\n",
       "          2009    15\n",
       "          2010    14\n",
       "          2016    14\n",
       "          2011    13\n",
       "          2007    12\n",
       "          2013    12\n",
       "          2014    11\n",
       "          2018     8\n",
       "CF        2018     5\n",
       "CG        2018    10\n",
       "PF        2009    33\n",
       "          2007    32\n",
       "          2008    30\n",
       "          2006    24\n",
       "          2013    24\n",
       "          2016    23\n",
       "          2012    22\n",
       "          2014    21\n",
       "          2015    21\n",
       "          2010    20\n",
       "          2018    20\n",
       "          2011    18\n",
       "          2017    18\n",
       "PG        2013    26\n",
       "          2016    25\n",
       "                  ..\n",
       "          2007    15\n",
       "          2009    13\n",
       "          2018    13\n",
       "          2008    11\n",
       "SF        2012    26\n",
       "          2010    24\n",
       "          2014    24\n",
       "          2017    22\n",
       "          2011    21\n",
       "          2018    21\n",
       "          2007    19\n",
       "          2008    19\n",
       "          2013    19\n",
       "          2009    18\n",
       "          2016    18\n",
       "          2006    17\n",
       "          2015    17\n",
       "SG        2011    30\n",
       "          2015    29\n",
       "          2017    26\n",
       "          2014    24\n",
       "          2018    24\n",
       "          2006    23\n",
       "          2010    23\n",
       "          2007    22\n",
       "          2008    22\n",
       "          2016    21\n",
       "          2009    20\n",
       "          2013    20\n",
       "          2012    17\n",
       "Name: Year, Length: 67, dtype: int64"
      ]
     },
     "execution_count": 45,
     "metadata": {},
     "output_type": "execute_result"
    }
   ],
   "source": [
    "#position count of year\n",
    "position_count_year = rankings.groupby('Position')['Year'].value_counts()\n",
    "position_count_year"
   ]
  },
  {
   "cell_type": "code",
   "execution_count": 13,
   "metadata": {},
   "outputs": [
    {
     "data": {
      "text/plain": [
       "State\n",
       "CA    139\n",
       "TX     94\n",
       "GA     79\n",
       "FL     72\n",
       "VA     70\n",
       "Name: State, dtype: int64"
      ]
     },
     "execution_count": 13,
     "metadata": {},
     "output_type": "execute_result"
    }
   ],
   "source": [
    "#state count\n",
    "state = rankings.groupby('State')\n",
    "state_count = state['State'].count()\n",
    "state_count.sort_values(ascending=False).head()"
   ]
  },
  {
   "cell_type": "code",
   "execution_count": 33,
   "metadata": {},
   "outputs": [
    {
     "data": {
      "text/plain": [
       "State      College        \n",
       "AL         Alabama            10\n",
       "           Indiana             3\n",
       "           Kentucky            2\n",
       "           Connecticut         1\n",
       "           Florida State       1\n",
       "           LSU                 1\n",
       "           Michigan State      1\n",
       "           Minnesota           1\n",
       "           Oklahoma State      1\n",
       "           Purdue              1\n",
       "           Virginia            1\n",
       "AN         Gonzaga             1\n",
       "AR         Arkansas            4\n",
       "           Kentucky            2\n",
       "           Cincinnati          1\n",
       "           Florida             1\n",
       "           Oklahoma State      1\n",
       "AUS        LSU                 1\n",
       "AZ         Arizona             3\n",
       "           Arizona State       1\n",
       "           San Diego State     1\n",
       "           Stanford            1\n",
       "Australia  Connecticut         1\n",
       "BC         Maryland            1\n",
       "CA         UCLA               21\n",
       "           Arizona            17\n",
       "           USC                11\n",
       "           California          9\n",
       "           Oregon              7\n",
       "           Stanford            6\n",
       "                              ..\n",
       "WA         Colorado            1\n",
       "           LSU                 1\n",
       "           Oregon              1\n",
       "           Oregon State        1\n",
       "           Stanford            1\n",
       "           Texas               1\n",
       "WI         Marquette           8\n",
       "           Wisconsin           5\n",
       "           Iowa State          2\n",
       "           Indiana             1\n",
       "           Kentucky            1\n",
       "           Louisville          1\n",
       "           Maryland            1\n",
       "           Michigan            1\n",
       "           Michigan State      1\n",
       "           North Carolina      1\n",
       "           Oregon              1\n",
       "           UCLA                1\n",
       "WS         Marquette           1\n",
       "WV         Indiana             2\n",
       "           West Virginia       2\n",
       "           Florida             1\n",
       "           Gonzaga             1\n",
       "           Kentucky            1\n",
       "           Louisville          1\n",
       "           Michigan State      1\n",
       "           Oregon              1\n",
       "           Providence          1\n",
       "           Seton Hall          1\n",
       "WY         Wake Forest         1\n",
       "Name: College, Length: 668, dtype: int64"
      ]
     },
     "execution_count": 33,
     "metadata": {},
     "output_type": "execute_result"
    }
   ],
   "source": [
    "#state percent of total\n",
    "state_percent = state_count / len(rankings)\n",
    "state_percent.sort_values(ascending=False).head()\n",
    "#state percent of year"
   ]
  },
  {
   "cell_type": "code",
   "execution_count": 34,
   "metadata": {},
   "outputs": [
    {
     "data": {
      "text/plain": [
       "State      College        \n",
       "AL         Alabama            10\n",
       "           Indiana             3\n",
       "           Kentucky            2\n",
       "           Connecticut         1\n",
       "           Florida State       1\n",
       "           LSU                 1\n",
       "           Michigan State      1\n",
       "           Minnesota           1\n",
       "           Oklahoma State      1\n",
       "           Purdue              1\n",
       "           Virginia            1\n",
       "AN         Gonzaga             1\n",
       "AR         Arkansas            4\n",
       "           Kentucky            2\n",
       "           Cincinnati          1\n",
       "           Florida             1\n",
       "           Oklahoma State      1\n",
       "AUS        LSU                 1\n",
       "AZ         Arizona             3\n",
       "           Arizona State       1\n",
       "           San Diego State     1\n",
       "           Stanford            1\n",
       "Australia  Connecticut         1\n",
       "BC         Maryland            1\n",
       "CA         UCLA               21\n",
       "           Arizona            17\n",
       "           USC                11\n",
       "           California          9\n",
       "           Oregon              7\n",
       "           Stanford            6\n",
       "                              ..\n",
       "WA         Colorado            1\n",
       "           LSU                 1\n",
       "           Oregon              1\n",
       "           Oregon State        1\n",
       "           Stanford            1\n",
       "           Texas               1\n",
       "WI         Marquette           8\n",
       "           Wisconsin           5\n",
       "           Iowa State          2\n",
       "           Indiana             1\n",
       "           Kentucky            1\n",
       "           Louisville          1\n",
       "           Maryland            1\n",
       "           Michigan            1\n",
       "           Michigan State      1\n",
       "           North Carolina      1\n",
       "           Oregon              1\n",
       "           UCLA                1\n",
       "WS         Marquette           1\n",
       "WV         Indiana             2\n",
       "           West Virginia       2\n",
       "           Florida             1\n",
       "           Gonzaga             1\n",
       "           Kentucky            1\n",
       "           Louisville          1\n",
       "           Michigan State      1\n",
       "           Oregon              1\n",
       "           Providence          1\n",
       "           Seton Hall          1\n",
       "WY         Wake Forest         1\n",
       "Name: College, Length: 668, dtype: int64"
      ]
     },
     "execution_count": 34,
     "metadata": {},
     "output_type": "execute_result"
    }
   ],
   "source": [
    "#state count by team\n",
    "state_count_team = rankings.groupby('State')['College'].value_counts()\n",
    "state_count_team"
   ]
  },
  {
   "cell_type": "code",
   "execution_count": 115,
   "metadata": {},
   "outputs": [
    {
     "data": {
      "text/plain": [
       "City\n",
       "Chicago            30\n",
       "Mouth of Wilson    24\n",
       "Memphis            19\n",
       "Indianapolis       18\n",
       "Henderson          17\n",
       "Name: City, dtype: int64"
      ]
     },
     "execution_count": 115,
     "metadata": {},
     "output_type": "execute_result"
    }
   ],
   "source": [
    "#city count\n",
    "city = rankings.groupby('City')\n",
    "city_count = city['City'].count()\n",
    "city_count.sort_values(ascending=False).head()"
   ]
  },
  {
   "cell_type": "code",
   "execution_count": 44,
   "metadata": {},
   "outputs": [],
   "source": [
    "#team freshman count by year\n",
    "#team freshman/sophmore count by year\n",
    "#team upperclassmen count by year\n",
    "#team ranking in top 100 count by year\n",
    "#team ranking in top 100 total\n",
    "#team occurrences final four\n",
    "#team occurrences championships"
   ]
  },
  {
   "cell_type": "code",
   "execution_count": null,
   "metadata": {},
   "outputs": [],
   "source": []
  }
 ],
 "metadata": {
  "kernelspec": {
   "display_name": "Python 3",
   "language": "python",
   "name": "python3"
  },
  "language_info": {
   "codemirror_mode": {
    "name": "ipython",
    "version": 3
   },
   "file_extension": ".py",
   "mimetype": "text/x-python",
   "name": "python",
   "nbconvert_exporter": "python",
   "pygments_lexer": "ipython3",
   "version": "3.7.1"
  }
 },
 "nbformat": 4,
 "nbformat_minor": 2
}
