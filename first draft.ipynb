{
 "cells": [
  {
   "cell_type": "code",
   "execution_count": 1,
   "metadata": {},
   "outputs": [],
   "source": [
    "#notebook to be used for cleaning and organizing data\n",
    "%matplotlib inline \n",
    "#can use inline if we prefer"
   ]
  },
  {
   "cell_type": "code",
   "execution_count": 10,
   "metadata": {},
   "outputs": [],
   "source": [
    "import matplotlib.pyplot as plt\n",
    "import pandas as pd\n",
    "import plotly as py\n",
    "import plotly.graph_objs as go\n",
    "\n",
    "#pull and read rankings\n",
    "rankings_excel = 'HighSchool_100_Rankings.xlsx'\n",
    "rankings = pd.read_excel(rankings_excel)\n",
    "#rankings.head() - test worked\n",
    "\n",
    "#pull and read team data\n",
    "team_excel = 'Team_Data.xlsx'\n",
    "team = pd.read_excel(team_excel)\n",
    "del team['Hometown']\n",
    "#team.head() - test worked"
   ]
  },
  {
   "cell_type": "code",
   "execution_count": 12,
   "metadata": {},
   "outputs": [
    {
     "ename": "SyntaxError",
     "evalue": "invalid syntax (<ipython-input-12-d6cc1022adc0>, line 4)",
     "output_type": "error",
     "traceback": [
      "\u001b[1;36m  File \u001b[1;32m\"<ipython-input-12-d6cc1022adc0>\"\u001b[1;36m, line \u001b[1;32m4\u001b[0m\n\u001b[1;33m    map = go.Figure(data=[data])\u001b[0m\n\u001b[1;37m      ^\u001b[0m\n\u001b[1;31mSyntaxError\u001b[0m\u001b[1;31m:\u001b[0m invalid syntax\n"
     ]
    }
   ],
   "source": [
    "data = dict(type = 'choropleth', locations = ['China','Canada','Brazil'], locationmode='country names', colorscale =['Viridis'], z = [10,20,30]\n",
    "\n",
    "\n",
    "map = go.Figure(data=[data])\n",
    "py.offline.plot(map)"
   ]
  },
  {
   "cell_type": "code",
   "execution_count": 79,
   "metadata": {},
   "outputs": [
    {
     "data": {
      "text/html": [
       "<div>\n",
       "<style scoped>\n",
       "    .dataframe tbody tr th:only-of-type {\n",
       "        vertical-align: middle;\n",
       "    }\n",
       "\n",
       "    .dataframe tbody tr th {\n",
       "        vertical-align: top;\n",
       "    }\n",
       "\n",
       "    .dataframe thead th {\n",
       "        text-align: right;\n",
       "    }\n",
       "</style>\n",
       "<table border=\"1\" class=\"dataframe\">\n",
       "  <thead>\n",
       "    <tr style=\"text-align: right;\">\n",
       "      <th></th>\n",
       "      <th>Year</th>\n",
       "      <th>RSCI</th>\n",
       "      <th>Player Name</th>\n",
       "      <th>Position</th>\n",
       "      <th>College</th>\n",
       "      <th>City</th>\n",
       "      <th>State</th>\n",
       "    </tr>\n",
       "  </thead>\n",
       "  <tbody>\n",
       "    <tr>\n",
       "      <th>0</th>\n",
       "      <td>2018</td>\n",
       "      <td>1</td>\n",
       "      <td>R.J. Barrett</td>\n",
       "      <td>SF</td>\n",
       "      <td>Duke</td>\n",
       "      <td>Montverde</td>\n",
       "      <td>FL</td>\n",
       "    </tr>\n",
       "    <tr>\n",
       "      <th>1</th>\n",
       "      <td>2018</td>\n",
       "      <td>2</td>\n",
       "      <td>Cameron Reddish</td>\n",
       "      <td>SG</td>\n",
       "      <td>Duke</td>\n",
       "      <td>Norristown</td>\n",
       "      <td>PA</td>\n",
       "    </tr>\n",
       "    <tr>\n",
       "      <th>2</th>\n",
       "      <td>2018</td>\n",
       "      <td>3</td>\n",
       "      <td>Nassir Little</td>\n",
       "      <td>SF</td>\n",
       "      <td>North Carolina</td>\n",
       "      <td>Orlando</td>\n",
       "      <td>FL</td>\n",
       "    </tr>\n",
       "    <tr>\n",
       "      <th>3</th>\n",
       "      <td>2018</td>\n",
       "      <td>4</td>\n",
       "      <td>Zion Williamson</td>\n",
       "      <td>PF</td>\n",
       "      <td>Duke</td>\n",
       "      <td>Spartanburg</td>\n",
       "      <td>SC</td>\n",
       "    </tr>\n",
       "    <tr>\n",
       "      <th>4</th>\n",
       "      <td>2018</td>\n",
       "      <td>5</td>\n",
       "      <td>Romeo Langford</td>\n",
       "      <td>SG</td>\n",
       "      <td>Indiana</td>\n",
       "      <td>New Albany</td>\n",
       "      <td>IN</td>\n",
       "    </tr>\n",
       "  </tbody>\n",
       "</table>\n",
       "</div>"
      ],
      "text/plain": [
       "   Year  RSCI      Player Name Position         College         City State\n",
       "0  2018     1     R.J. Barrett       SF            Duke    Montverde    FL\n",
       "1  2018     2  Cameron Reddish       SG            Duke   Norristown    PA\n",
       "2  2018     3    Nassir Little       SF  North Carolina      Orlando    FL\n",
       "3  2018     4  Zion Williamson       PF            Duke  Spartanburg    SC\n",
       "4  2018     5   Romeo Langford       SG         Indiana   New Albany    IN"
      ]
     },
     "execution_count": 79,
     "metadata": {},
     "output_type": "execute_result"
    }
   ],
   "source": [
    "#split hometown into two columns, rename and add back into rankings\n",
    "hometown_split = rankings['Hometown'].str.split(', ',expand=True)\n",
    "rankings['City'] = hometown_split[0]\n",
    "rankings['State'] = hometown_split[1]\n",
    "del rankings['Hometown']\n",
    "rankings.head()"
   ]
  },
  {
   "cell_type": "code",
   "execution_count": 80,
   "metadata": {},
   "outputs": [
    {
     "data": {
      "text/plain": [
       "College\n",
       "Kentucky          57\n",
       "Duke              49\n",
       "Kansas            37\n",
       "North Carolina    36\n",
       "UCLA              35\n",
       "Name: College, dtype: int64"
      ]
     },
     "execution_count": 80,
     "metadata": {},
     "output_type": "execute_result"
    }
   ],
   "source": [
    "#school data counts\n",
    "schools = rankings.groupby('College')\n",
    "schools_count = schools['College'].count()\n",
    "schools_count.sort_values(ascending=False).head()"
   ]
  },
  {
   "cell_type": "code",
   "execution_count": 81,
   "metadata": {},
   "outputs": [
    {
     "data": {
      "text/plain": [
       "Year\n",
       "2006     99\n",
       "2007    100\n",
       "2008    101\n",
       "2009     99\n",
       "2010    100\n",
       "2011    100\n",
       "2012    100\n",
       "2013    101\n",
       "2014    100\n",
       "2015    100\n",
       "2016    101\n",
       "2017    100\n",
       "2018    101\n",
       "Name: Year, dtype: int64"
      ]
     },
     "execution_count": 81,
     "metadata": {},
     "output_type": "execute_result"
    }
   ],
   "source": [
    "#team percent of year\n",
    "year = rankings.groupby('Year')\n",
    "rankings_year = year['Year'].count()\n",
    "rankings_year"
   ]
  },
  {
   "cell_type": "code",
   "execution_count": 82,
   "metadata": {},
   "outputs": [
    {
     "data": {
      "text/plain": [
       "College         Year\n",
       "Kentucky        2017    8\n",
       "North Carolina  2006    6\n",
       "Kentucky        2013    6\n",
       "Duke            2017    6\n",
       "                2011    6\n",
       "Name: Year, dtype: int64"
      ]
     },
     "execution_count": 82,
     "metadata": {},
     "output_type": "execute_result"
    }
   ],
   "source": [
    "#team count of year\n",
    "school_year = rankings.groupby('College')['Year'].value_counts()\n",
    "school_year.sort_values(ascending=False).head()"
   ]
  },
  {
   "cell_type": "code",
   "execution_count": 83,
   "metadata": {},
   "outputs": [
    {
     "data": {
      "text/plain": [
       "College  Year\n",
       "Akron    2009    1.010101\n",
       "Alabama  2011    3.000000\n",
       "         2017    3.000000\n",
       "         2007    2.000000\n",
       "         2008    1.980198\n",
       "Name: Year, dtype: float64"
      ]
     },
     "execution_count": 83,
     "metadata": {},
     "output_type": "execute_result"
    }
   ],
   "source": [
    "#percent of recruits that went to a given college in a given year\n",
    "school_year_percent = (school_year / rankings_year)*100\n",
    "school_year_percent.head()"
   ]
  },
  {
   "cell_type": "code",
   "execution_count": 84,
   "metadata": {},
   "outputs": [
    {
     "data": {
      "text/plain": [
       "College\n",
       "Kentucky          4.377880\n",
       "Duke              3.763441\n",
       "Kansas            2.841782\n",
       "North Carolina    2.764977\n",
       "UCLA              2.688172\n",
       "Name: College, dtype: float64"
      ]
     },
     "execution_count": 84,
     "metadata": {},
     "output_type": "execute_result"
    }
   ],
   "source": [
    "#team percent of total\n",
    "school_percent = (schools_count / len(rankings))*100\n",
    "school_percent.sort_values(ascending=False).head()"
   ]
  },
  {
   "cell_type": "code",
   "execution_count": 85,
   "metadata": {},
   "outputs": [
    {
     "data": {
      "text/plain": [
       "College  State\n",
       "Akron    PA        1\n",
       "Alabama  AL       10\n",
       "         GA        4\n",
       "         FL        1\n",
       "         KS        1\n",
       "Name: State, dtype: int64"
      ]
     },
     "execution_count": 85,
     "metadata": {},
     "output_type": "execute_result"
    }
   ],
   "source": [
    "#school state count - shows how many were taken by each school per state\n",
    "school_state = rankings.groupby('College')['State'].value_counts()\n",
    "school_state.head()"
   ]
  },
  {
   "cell_type": "code",
   "execution_count": 86,
   "metadata": {},
   "outputs": [
    {
     "data": {
      "text/plain": [
       "College  State\n",
       "Akron    PA       100.000000\n",
       "Alabama  AL        52.631579\n",
       "         GA        21.052632\n",
       "         FL         5.263158\n",
       "         KS         5.263158\n",
       "dtype: float64"
      ]
     },
     "execution_count": 86,
     "metadata": {},
     "output_type": "execute_result"
    }
   ],
   "source": [
    "#team state percent of same team total\n",
    "school_state_percent = (school_state / schools_count)*100\n",
    "school_state_percent.head()\n",
    "#to call a specific team use ['Team Name']\n"
   ]
  },
  {
   "cell_type": "code",
   "execution_count": null,
   "metadata": {},
   "outputs": [],
   "source": []
  },
  {
   "cell_type": "code",
   "execution_count": 87,
   "metadata": {},
   "outputs": [
    {
     "data": {
      "text/plain": [
       "Position\n",
       "PF    306\n",
       "SG    301\n",
       "SF    265\n",
       "PG    227\n",
       "C     188\n",
       "CG     10\n",
       "CF      5\n",
       "Name: Position, dtype: int64"
      ]
     },
     "execution_count": 87,
     "metadata": {},
     "output_type": "execute_result"
    }
   ],
   "source": [
    "#positions count\n",
    "position = rankings.groupby('Position')\n",
    "position_count = position['Position'].count()\n",
    "position_count.sort_values(ascending=False)"
   ]
  },
  {
   "cell_type": "code",
   "execution_count": 88,
   "metadata": {},
   "outputs": [
    {
     "data": {
      "text/plain": [
       "Position\n",
       "PF    23.502304\n",
       "SG    23.118280\n",
       "SF    20.353303\n",
       "PG    17.434716\n",
       "C     14.439324\n",
       "CG     0.768049\n",
       "CF     0.384025\n",
       "Name: Position, dtype: float64"
      ]
     },
     "execution_count": 88,
     "metadata": {},
     "output_type": "execute_result"
    }
   ],
   "source": [
    "#position percent of total\n",
    "position_percent = (position_count / len(rankings))*100\n",
    "position_percent.sort_values(ascending=False)"
   ]
  },
  {
   "cell_type": "code",
   "execution_count": 89,
   "metadata": {},
   "outputs": [
    {
     "data": {
      "text/plain": [
       "Position  Year\n",
       "C         2006    19\n",
       "          2008    19\n",
       "          2012    17\n",
       "          2015    17\n",
       "          2017    17\n",
       "Name: Year, dtype: int64"
      ]
     },
     "execution_count": 89,
     "metadata": {},
     "output_type": "execute_result"
    }
   ],
   "source": [
    "#position count of year\n",
    "position_count_year = rankings.groupby('Position')['Year'].value_counts()\n",
    "position_count_year.head()"
   ]
  },
  {
   "cell_type": "code",
   "execution_count": 90,
   "metadata": {},
   "outputs": [
    {
     "data": {
      "text/plain": [
       "Position  Year\n",
       "C         2006    19.191919\n",
       "          2008    18.811881\n",
       "          2012    17.000000\n",
       "          2015    17.000000\n",
       "          2017    17.000000\n",
       "Name: Year, dtype: float64"
      ]
     },
     "execution_count": 90,
     "metadata": {},
     "output_type": "execute_result"
    }
   ],
   "source": [
    "#percentage of position in a given year\n",
    "position_percent_year = (position_count_year/rankings_year)*100\n",
    "position_percent_year.head()"
   ]
  },
  {
   "cell_type": "code",
   "execution_count": 91,
   "metadata": {},
   "outputs": [
    {
     "data": {
      "text/plain": [
       "State  Position\n",
       "AL     SG          9\n",
       "       C           5\n",
       "       PF          4\n",
       "       PG          3\n",
       "       SF          2\n",
       "Name: Position, dtype: int64"
      ]
     },
     "execution_count": 91,
     "metadata": {},
     "output_type": "execute_result"
    }
   ],
   "source": [
    "#position by state - do certain states produce more of the same position?\n",
    "position_state = rankings.groupby('State')['Position'].value_counts()\n",
    "position_state.head()"
   ]
  },
  {
   "cell_type": "code",
   "execution_count": 92,
   "metadata": {},
   "outputs": [
    {
     "data": {
      "text/plain": [
       "State\n",
       "CA    139\n",
       "TX     94\n",
       "GA     79\n",
       "FL     72\n",
       "VA     70\n",
       "Name: State, dtype: int64"
      ]
     },
     "execution_count": 92,
     "metadata": {},
     "output_type": "execute_result"
    }
   ],
   "source": [
    "#state count\n",
    "state = rankings.groupby('State')\n",
    "state_count = state['State'].count()\n",
    "state_count.sort_values(ascending=False).head()"
   ]
  },
  {
   "cell_type": "code",
   "execution_count": 93,
   "metadata": {},
   "outputs": [
    {
     "data": {
      "text/plain": [
       "State\n",
       "CA    10.675883\n",
       "TX     7.219662\n",
       "GA     6.067588\n",
       "FL     5.529954\n",
       "VA     5.376344\n",
       "Name: State, dtype: float64"
      ]
     },
     "execution_count": 93,
     "metadata": {},
     "output_type": "execute_result"
    }
   ],
   "source": [
    "#state percent of total\n",
    "state_percent = (state_count / len(rankings))*100\n",
    "state_percent.sort_values(ascending=False).head()"
   ]
  },
  {
   "cell_type": "code",
   "execution_count": 94,
   "metadata": {},
   "outputs": [
    {
     "data": {
      "text/plain": [
       "Year  State\n",
       "2006  CA       14\n",
       "      TX        8\n",
       "      NJ        7\n",
       "      TN        7\n",
       "      VA        6\n",
       "Name: State, dtype: int64"
      ]
     },
     "execution_count": 94,
     "metadata": {},
     "output_type": "execute_result"
    }
   ],
   "source": [
    "#count by state in a given year\n",
    "state_year = rankings.groupby('Year')['State'].value_counts()\n",
    "state_year.head()"
   ]
  },
  {
   "cell_type": "code",
   "execution_count": 95,
   "metadata": {},
   "outputs": [
    {
     "data": {
      "text/plain": [
       "Year  State\n",
       "2006  CA       0.141414\n",
       "      TX       0.080808\n",
       "      NJ       0.070707\n",
       "      TN       0.070707\n",
       "      VA       0.060606\n",
       "dtype: float64"
      ]
     },
     "execution_count": 95,
     "metadata": {},
     "output_type": "execute_result"
    }
   ],
   "source": [
    "#state percent in a given year\n",
    "state_percent_year = state_year / rankings_year\n",
    "state_percent_year.head()"
   ]
  },
  {
   "cell_type": "code",
   "execution_count": 96,
   "metadata": {},
   "outputs": [
    {
     "data": {
      "text/plain": [
       "State  College      \n",
       "AL     Alabama          10\n",
       "       Indiana           3\n",
       "       Kentucky          2\n",
       "       Connecticut       1\n",
       "       Florida State     1\n",
       "Name: College, dtype: int64"
      ]
     },
     "execution_count": 96,
     "metadata": {},
     "output_type": "execute_result"
    }
   ],
   "source": [
    "#state count by team\n",
    "state_count_team = rankings.groupby('State')['College'].value_counts()\n",
    "state_count_team.head()"
   ]
  },
  {
   "cell_type": "code",
   "execution_count": 97,
   "metadata": {},
   "outputs": [
    {
     "data": {
      "text/plain": [
       "City\n",
       "Chicago            30\n",
       "Mouth of Wilson    24\n",
       "Memphis            19\n",
       "Indianapolis       18\n",
       "Henderson          17\n",
       "Name: City, dtype: int64"
      ]
     },
     "execution_count": 97,
     "metadata": {},
     "output_type": "execute_result"
    }
   ],
   "source": [
    "#city count\n",
    "city = rankings.groupby('City')\n",
    "city_count = city['City'].count()\n",
    "city_count.sort_values(ascending=False).head()"
   ]
  },
  {
   "cell_type": "code",
   "execution_count": 98,
   "metadata": {},
   "outputs": [
    {
     "data": {
      "text/plain": [
       "College  Position\n",
       "Akron    C           1\n",
       "Alabama  SG          8\n",
       "         SF          4\n",
       "         PG          3\n",
       "         PF          2\n",
       "Name: Position, dtype: int64"
      ]
     },
     "execution_count": 98,
     "metadata": {},
     "output_type": "execute_result"
    }
   ],
   "source": [
    "#position by school - do schools target particular positions in the top 100 more than others?\n",
    "position_college = rankings.groupby('College')['Position'].value_counts()\n",
    "position_college.head()\n"
   ]
  },
  {
   "cell_type": "code",
   "execution_count": 99,
   "metadata": {},
   "outputs": [
    {
     "data": {
      "text/plain": [
       "College  Position  State\n",
       "Akron    C         PA       1\n",
       "Alabama  C         AL       1\n",
       "         CG        LA       1\n",
       "         PF        AL       2\n",
       "         PG        AL       2\n",
       "Name: State, dtype: int64"
      ]
     },
     "execution_count": 99,
     "metadata": {},
     "output_type": "execute_result"
    }
   ],
   "source": [
    "#position by school by state - do schools target particular positions from certain states in the top 100 more than others?\n",
    "position_college_state = rankings.groupby(['College','Position'])['State'].value_counts()\n",
    "position_college_state.head()"
   ]
  },
  {
   "cell_type": "code",
   "execution_count": 100,
   "metadata": {
    "scrolled": true
   },
   "outputs": [
    {
     "data": {
      "text/html": [
       "<div>\n",
       "<style scoped>\n",
       "    .dataframe tbody tr th:only-of-type {\n",
       "        vertical-align: middle;\n",
       "    }\n",
       "\n",
       "    .dataframe tbody tr th {\n",
       "        vertical-align: top;\n",
       "    }\n",
       "\n",
       "    .dataframe thead th {\n",
       "        text-align: right;\n",
       "    }\n",
       "</style>\n",
       "<table border=\"1\" class=\"dataframe\">\n",
       "  <thead>\n",
       "    <tr style=\"text-align: right;\">\n",
       "      <th></th>\n",
       "      <th>Player</th>\n",
       "      <th>Team</th>\n",
       "      <th>Year</th>\n",
       "      <th>Class</th>\n",
       "      <th>Pos</th>\n",
       "      <th>RSCI Top 100</th>\n",
       "      <th>Pts.</th>\n",
       "      <th>Winner</th>\n",
       "    </tr>\n",
       "  </thead>\n",
       "  <tbody>\n",
       "    <tr>\n",
       "      <th>0</th>\n",
       "      <td>Jay Williams</td>\n",
       "      <td>Duke</td>\n",
       "      <td>2001</td>\n",
       "      <td>SO</td>\n",
       "      <td>G</td>\n",
       "      <td>3.0</td>\n",
       "      <td>21.6</td>\n",
       "      <td>Yes</td>\n",
       "    </tr>\n",
       "    <tr>\n",
       "      <th>1</th>\n",
       "      <td>Shane Battier</td>\n",
       "      <td>Duke</td>\n",
       "      <td>2001</td>\n",
       "      <td>SR</td>\n",
       "      <td>F</td>\n",
       "      <td>NaN</td>\n",
       "      <td>19.9</td>\n",
       "      <td>Yes</td>\n",
       "    </tr>\n",
       "    <tr>\n",
       "      <th>2</th>\n",
       "      <td>Mike Dunleavy</td>\n",
       "      <td>Duke</td>\n",
       "      <td>2001</td>\n",
       "      <td>SO</td>\n",
       "      <td>F</td>\n",
       "      <td>26.0</td>\n",
       "      <td>12.6</td>\n",
       "      <td>Yes</td>\n",
       "    </tr>\n",
       "    <tr>\n",
       "      <th>3</th>\n",
       "      <td>Nate James</td>\n",
       "      <td>Duke</td>\n",
       "      <td>2001</td>\n",
       "      <td>SR</td>\n",
       "      <td>F</td>\n",
       "      <td>NaN</td>\n",
       "      <td>12.3</td>\n",
       "      <td>Yes</td>\n",
       "    </tr>\n",
       "    <tr>\n",
       "      <th>4</th>\n",
       "      <td>Carlos Boozer</td>\n",
       "      <td>Duke</td>\n",
       "      <td>2001</td>\n",
       "      <td>SO</td>\n",
       "      <td>C</td>\n",
       "      <td>8.0</td>\n",
       "      <td>13.3</td>\n",
       "      <td>Yes</td>\n",
       "    </tr>\n",
       "  </tbody>\n",
       "</table>\n",
       "</div>"
      ],
      "text/plain": [
       "          Player  Team  Year Class Pos  RSCI Top 100  Pts. Winner\n",
       "0   Jay Williams  Duke  2001    SO   G           3.0  21.6    Yes\n",
       "1  Shane Battier  Duke  2001    SR   F           NaN  19.9    Yes\n",
       "2  Mike Dunleavy  Duke  2001    SO   F          26.0  12.6    Yes\n",
       "3     Nate James  Duke  2001    SR   F           NaN  12.3    Yes\n",
       "4  Carlos Boozer  Duke  2001    SO   C           8.0  13.3    Yes"
      ]
     },
     "execution_count": 100,
     "metadata": {},
     "output_type": "execute_result"
    }
   ],
   "source": [
    "#team data, reprinting for ease\n",
    "team.head()"
   ]
  },
  {
   "cell_type": "code",
   "execution_count": 101,
   "metadata": {},
   "outputs": [
    {
     "data": {
      "text/plain": [
       "Year  Team     Class\n",
       "2001  Arizona  SO       3\n",
       "               SR       3\n",
       "               JR       2\n",
       "      Duke     SO       4\n",
       "               SR       2\n",
       "Name: Class, dtype: int64"
      ]
     },
     "execution_count": 101,
     "metadata": {},
     "output_type": "execute_result"
    }
   ],
   "source": [
    "#Team Data/Class makeup by year\n",
    "year_team_grade = team.groupby(['Year','Team'])['Class'].value_counts()\n",
    "year_team_grade.head()"
   ]
  },
  {
   "cell_type": "code",
   "execution_count": 102,
   "metadata": {},
   "outputs": [
    {
     "data": {
      "text/html": [
       "<div>\n",
       "<style scoped>\n",
       "    .dataframe tbody tr th:only-of-type {\n",
       "        vertical-align: middle;\n",
       "    }\n",
       "\n",
       "    .dataframe tbody tr th {\n",
       "        vertical-align: top;\n",
       "    }\n",
       "\n",
       "    .dataframe thead th {\n",
       "        text-align: right;\n",
       "    }\n",
       "</style>\n",
       "<table border=\"1\" class=\"dataframe\">\n",
       "  <thead>\n",
       "    <tr style=\"text-align: right;\">\n",
       "      <th></th>\n",
       "      <th>Player</th>\n",
       "      <th>Team</th>\n",
       "      <th>Year</th>\n",
       "      <th>Pos</th>\n",
       "      <th>RSCI Top 100</th>\n",
       "      <th>Pts.</th>\n",
       "      <th>Winner</th>\n",
       "    </tr>\n",
       "    <tr>\n",
       "      <th>Class</th>\n",
       "      <th></th>\n",
       "      <th></th>\n",
       "      <th></th>\n",
       "      <th></th>\n",
       "      <th></th>\n",
       "      <th></th>\n",
       "      <th></th>\n",
       "    </tr>\n",
       "  </thead>\n",
       "  <tbody>\n",
       "    <tr>\n",
       "      <th>FR</th>\n",
       "      <td>119</td>\n",
       "      <td>119</td>\n",
       "      <td>119</td>\n",
       "      <td>119</td>\n",
       "      <td>84</td>\n",
       "      <td>119</td>\n",
       "      <td>119</td>\n",
       "    </tr>\n",
       "    <tr>\n",
       "      <th>JR</th>\n",
       "      <td>182</td>\n",
       "      <td>182</td>\n",
       "      <td>182</td>\n",
       "      <td>182</td>\n",
       "      <td>107</td>\n",
       "      <td>182</td>\n",
       "      <td>182</td>\n",
       "    </tr>\n",
       "    <tr>\n",
       "      <th>SO</th>\n",
       "      <td>151</td>\n",
       "      <td>151</td>\n",
       "      <td>151</td>\n",
       "      <td>151</td>\n",
       "      <td>101</td>\n",
       "      <td>151</td>\n",
       "      <td>151</td>\n",
       "    </tr>\n",
       "    <tr>\n",
       "      <th>SR</th>\n",
       "      <td>157</td>\n",
       "      <td>157</td>\n",
       "      <td>157</td>\n",
       "      <td>157</td>\n",
       "      <td>62</td>\n",
       "      <td>157</td>\n",
       "      <td>157</td>\n",
       "    </tr>\n",
       "  </tbody>\n",
       "</table>\n",
       "</div>"
      ],
      "text/plain": [
       "       Player  Team  Year  Pos  RSCI Top 100  Pts.  Winner\n",
       "Class                                                     \n",
       "FR        119   119   119  119            84   119     119\n",
       "JR        182   182   182  182           107   182     182\n",
       "SO        151   151   151  151           101   151     151\n",
       "SR        157   157   157  157            62   157     157"
      ]
     },
     "execution_count": 102,
     "metadata": {},
     "output_type": "execute_result"
    }
   ],
   "source": [
    "#total grades in tournament\n",
    "grade = team.groupby('Class').count()\n",
    "grade\n",
    "\n",
    "#team upperclassmen count by year\n",
    "#team ranking in top 100 total"
   ]
  },
  {
   "cell_type": "code",
   "execution_count": 103,
   "metadata": {},
   "outputs": [
    {
     "name": "stdout",
     "output_type": "stream",
     "text": [
      "The Database has 609 players\n"
     ]
    }
   ],
   "source": [
    "#total number of players in the tourney over the years of our data\n",
    "print(f'The Database has {len(team)} players')"
   ]
  },
  {
   "cell_type": "code",
   "execution_count": 104,
   "metadata": {},
   "outputs": [
    {
     "data": {
      "text/plain": [
       "Year  Class\n",
       "2001  SO       11\n",
       "      SR       11\n",
       "      JR        7\n",
       "      FR        3\n",
       "2002  JR       13\n",
       "Name: Class, dtype: int64"
      ]
     },
     "execution_count": 104,
     "metadata": {},
     "output_type": "execute_result"
    }
   ],
   "source": [
    "#count of grade/class in each year\n",
    "grade_year = team.groupby('Year')['Class'].value_counts()\n",
    "grade_year.head()"
   ]
  },
  {
   "cell_type": "code",
   "execution_count": 105,
   "metadata": {},
   "outputs": [
    {
     "data": {
      "text/html": [
       "<div>\n",
       "<style scoped>\n",
       "    .dataframe tbody tr th:only-of-type {\n",
       "        vertical-align: middle;\n",
       "    }\n",
       "\n",
       "    .dataframe tbody tr th {\n",
       "        vertical-align: top;\n",
       "    }\n",
       "\n",
       "    .dataframe thead th {\n",
       "        text-align: right;\n",
       "    }\n",
       "</style>\n",
       "<table border=\"1\" class=\"dataframe\">\n",
       "  <thead>\n",
       "    <tr style=\"text-align: right;\">\n",
       "      <th></th>\n",
       "      <th>Player</th>\n",
       "      <th>Year</th>\n",
       "      <th>Class</th>\n",
       "      <th>Pos</th>\n",
       "      <th>RSCI Top 100</th>\n",
       "      <th>Pts.</th>\n",
       "      <th>Winner</th>\n",
       "    </tr>\n",
       "    <tr>\n",
       "      <th>Team</th>\n",
       "      <th></th>\n",
       "      <th></th>\n",
       "      <th></th>\n",
       "      <th></th>\n",
       "      <th></th>\n",
       "      <th></th>\n",
       "      <th></th>\n",
       "    </tr>\n",
       "  </thead>\n",
       "  <tbody>\n",
       "    <tr>\n",
       "      <th>Arizona</th>\n",
       "      <td>1.0</td>\n",
       "      <td>1.0</td>\n",
       "      <td>1.0</td>\n",
       "      <td>1.0</td>\n",
       "      <td>0.625</td>\n",
       "      <td>1.0</td>\n",
       "      <td>1.0</td>\n",
       "    </tr>\n",
       "    <tr>\n",
       "      <th>Auburn</th>\n",
       "      <td>1.0</td>\n",
       "      <td>1.0</td>\n",
       "      <td>1.0</td>\n",
       "      <td>1.0</td>\n",
       "      <td>0.375</td>\n",
       "      <td>1.0</td>\n",
       "      <td>1.0</td>\n",
       "    </tr>\n",
       "    <tr>\n",
       "      <th>Butler</th>\n",
       "      <td>2.0</td>\n",
       "      <td>2.0</td>\n",
       "      <td>2.0</td>\n",
       "      <td>2.0</td>\n",
       "      <td>0.000</td>\n",
       "      <td>2.0</td>\n",
       "      <td>2.0</td>\n",
       "    </tr>\n",
       "    <tr>\n",
       "      <th>Duke</th>\n",
       "      <td>4.0</td>\n",
       "      <td>4.0</td>\n",
       "      <td>4.0</td>\n",
       "      <td>4.0</td>\n",
       "      <td>3.375</td>\n",
       "      <td>4.0</td>\n",
       "      <td>4.0</td>\n",
       "    </tr>\n",
       "    <tr>\n",
       "      <th>Florida</th>\n",
       "      <td>3.0</td>\n",
       "      <td>3.0</td>\n",
       "      <td>3.0</td>\n",
       "      <td>3.0</td>\n",
       "      <td>1.750</td>\n",
       "      <td>3.0</td>\n",
       "      <td>3.0</td>\n",
       "    </tr>\n",
       "  </tbody>\n",
       "</table>\n",
       "</div>"
      ],
      "text/plain": [
       "         Player  Year  Class  Pos  RSCI Top 100  Pts.  Winner\n",
       "Team                                                         \n",
       "Arizona     1.0   1.0    1.0  1.0         0.625   1.0     1.0\n",
       "Auburn      1.0   1.0    1.0  1.0         0.375   1.0     1.0\n",
       "Butler      2.0   2.0    2.0  2.0         0.000   2.0     2.0\n",
       "Duke        4.0   4.0    4.0  4.0         3.375   4.0     4.0\n",
       "Florida     3.0   3.0    3.0  3.0         1.750   3.0     3.0"
      ]
     },
     "execution_count": 105,
     "metadata": {},
     "output_type": "execute_result"
    }
   ],
   "source": [
    "#team occurrences final four\n",
    "team_finalfour = team.groupby('Team').count()/8\n",
    "team_finalfour.head()"
   ]
  },
  {
   "cell_type": "code",
   "execution_count": 106,
   "metadata": {},
   "outputs": [
    {
     "data": {
      "text/plain": [
       "Year\n",
       "2001    17\n",
       "2002    16\n",
       "2003    19\n",
       "2004    20\n",
       "2005    25\n",
       "2006    12\n",
       "2007    18\n",
       "2008    26\n",
       "2009    24\n",
       "2010    18\n",
       "2011    14\n",
       "2012    21\n",
       "2013    14\n",
       "2014    19\n",
       "2015    22\n",
       "2016    23\n",
       "2017    17\n",
       "2018    15\n",
       "2019    14\n",
       "Name: RSCI Top 100, dtype: int64"
      ]
     },
     "execution_count": 106,
     "metadata": {},
     "output_type": "execute_result"
    }
   ],
   "source": [
    "year_final_four_top100 = team.groupby(['Year'])['RSCI Top 100'].count()\n",
    "year_final_four_top100"
   ]
  },
  {
   "cell_type": "code",
   "execution_count": 107,
   "metadata": {},
   "outputs": [
    {
     "data": {
      "text/plain": [
       "Year\n",
       "2001    5\n",
       "2002    4\n",
       "2003    5\n",
       "2004    7\n",
       "2005    7\n",
       "2006    4\n",
       "2007    5\n",
       "2008    8\n",
       "2009    8\n",
       "2010    7\n",
       "2011    6\n",
       "2012    8\n",
       "2013    6\n",
       "2014    4\n",
       "2015    8\n",
       "2016    7\n",
       "2017    8\n",
       "2018    5\n",
       "2019    5\n",
       "Name: RSCI Top 100, dtype: int64"
      ]
     },
     "execution_count": 107,
     "metadata": {},
     "output_type": "execute_result"
    }
   ],
   "source": [
    "year_winner_top100_count = team.loc[team[\"Winner\"] == \"Yes\", :]\n",
    "year_winner_top100 = year_winner_top100_count.groupby(['Year'])['RSCI Top 100'].count()\n",
    "year_winner_top100\n"
   ]
  },
  {
   "cell_type": "code",
   "execution_count": 108,
   "metadata": {},
   "outputs": [
    {
     "data": {
      "image/png": "[encoded data removed]",
      "text/plain": [
       "<Figure size 432x288 with 1 Axes>"
      ]
     },
     "metadata": {
      "needs_background": "light"
     },
     "output_type": "display_data"
    }
   ],
   "source": [
    "years = year_winner_top100.keys()\n",
    "top100winner = plt.plot(years, year_winner_top100, color='blue')\n",
    "top100finalfour = plt.plot(years, year_final_four_top100, color='red')\n",
    "plt.show()\n",
    "\n"
   ]
  },
  {
   "cell_type": "code",
   "execution_count": 109,
   "metadata": {},
   "outputs": [
    {
     "data": {
      "text/plain": [
       "Year\n",
       "2001    29.41\n",
       "2002    25.00\n",
       "2003    26.32\n",
       "2004    35.00\n",
       "2005    28.00\n",
       "2006    33.33\n",
       "2007    27.78\n",
       "2008    30.77\n",
       "2009    33.33\n",
       "2010    38.89\n",
       "2011    42.86\n",
       "2012    38.10\n",
       "2013    42.86\n",
       "2014    21.05\n",
       "2015    36.36\n",
       "2016    30.43\n",
       "2017    47.06\n",
       "2018    33.33\n",
       "2019    35.71\n",
       "Name: RSCI Top 100, dtype: float64"
      ]
     },
     "execution_count": 109,
     "metadata": {},
     "output_type": "execute_result"
    }
   ],
   "source": [
    "percentage_of_top100_in_final_four = year_winner_top100/year_final_four_top100*100\n",
    "#percentage_of_top100_in_final_four\n",
    "round(percentage_of_top100_in_final_four,2)"
   ]
  },
  {
   "cell_type": "code",
   "execution_count": 119,
   "metadata": {},
   "outputs": [
    {
     "data": {
      "image/png": "[encoded data removed]",
      "text/plain": [
       "<Figure size 432x288 with 1 Axes>"
      ]
     },
     "metadata": {
      "needs_background": "light"
     },
     "output_type": "display_data"
    }
   ],
   "source": [
    "years = year_winner_top100.keys()\n",
    "percentage_top100winners_in_final_four = plt.plot(years, percentage_of_top100_in_final_four, color='blue')\n",
    "plt.hlines(y=25, xmin=2001, xmax=2019, linewidth=1, color='r')\n",
    "plt.show()"
   ]
  },
  {
   "cell_type": "code",
   "execution_count": 111,
   "metadata": {},
   "outputs": [
    {
     "data": {
      "text/plain": [
       "Year  Team          \n",
       "2001  Arizona           5\n",
       "      Duke              5\n",
       "      Maryland          3\n",
       "      Michigan State    4\n",
       "2002  Indiana           4\n",
       "      Kansas            7\n",
       "      Maryland          4\n",
       "      Oklahoma          1\n",
       "2003  Kansas            5\n",
       "      Marquette         4\n",
       "      Syracuse          5\n",
       "      Texas             5\n",
       "2004  Duke              7\n",
       "      Georgia Tech      5\n",
       "      Oklahoma State    1\n",
       "      Uconn             7\n",
       "2005  Illinios          6\n",
       "      Louisville        5\n",
       "      Michigan State    7\n",
       "      North Carolina    7\n",
       "2006  Florida           4\n",
       "      George Mason      0\n",
       "      LSU               3\n",
       "      UCLA              5\n",
       "2007  Florida           5\n",
       "      Georgetown        3\n",
       "      Ohio State        6\n",
       "      UCLA              4\n",
       "2008  Kansas            8\n",
       "      Memphis           6\n",
       "                       ..\n",
       "2012  Louisville        4\n",
       "      Ohio State        4\n",
       "2013  Louisville        6\n",
       "      Michigan          3\n",
       "      Syracuse          5\n",
       "      Wichita State     0\n",
       "2014  Florida           5\n",
       "      Kentucky          8\n",
       "      UConn             4\n",
       "      Wisconsin         2\n",
       "2015  Duke              8\n",
       "      Kentucky          8\n",
       "      Michigan State    4\n",
       "      Wisconsin         2\n",
       "2016  North Carolina    8\n",
       "      Oklahoma          0\n",
       "      Syracuse          8\n",
       "      Villanova         7\n",
       "2017  Gonzaga           4\n",
       "      North Carolina    8\n",
       "      Oregon            3\n",
       "      South Carolina    2\n",
       "2018  Kansas            6\n",
       "      Loyola Chicago    0\n",
       "      Michigan          4\n",
       "      Villanova         5\n",
       "2019  Auburn            3\n",
       "      Michigan State    5\n",
       "      Texas Tech        1\n",
       "      Virginia          5\n",
       "Name: RSCI Top 100, Length: 76, dtype: int64"
      ]
     },
     "execution_count": 111,
     "metadata": {},
     "output_type": "execute_result"
    }
   ],
   "source": [
    "#top 100 players on teams in a given year\n",
    "year_team_ranking_count = team.groupby(['Year','Team'])['RSCI Top 100'].count()\n",
    "year_team_ranking_count"
   ]
  },
  {
   "cell_type": "code",
   "execution_count": 112,
   "metadata": {},
   "outputs": [
    {
     "data": {
      "text/plain": [
       "Team\n",
       "North Carolina    38\n",
       "Michigan State    34\n",
       "Kansas            31\n",
       "Kentucky          31\n",
       "Duke              27\n",
       "Syracuse          18\n",
       "Villanova         16\n",
       "UConn             16\n",
       "Louisville        15\n",
       "Florida           14\n",
       "UCLA              14\n",
       "Ohio State        10\n",
       "Maryland           7\n",
       "Uconn              7\n",
       "Illinios           6\n",
       "Memphis            6\n",
       "Texas              5\n",
       "Georgia Tech       5\n",
       "Virginia           5\n",
       "Arizona            5\n",
       "Indiana            4\n",
       "Gonzaga            4\n",
       "Marquette          4\n",
       "Wisconsin          4\n",
       "Michigan           4\n",
       "LSU                3\n",
       "Michigan           3\n",
       "Oregon             3\n",
       "Georgetown         3\n",
       "West Virginia      3\n",
       "Auburn             3\n",
       "South Carolina     2\n",
       "Oklahoma           1\n",
       "Oklahoma State     1\n",
       "Texas Tech         1\n",
       "VCU                1\n",
       "Loyola Chicago     0\n",
       "Wichita State      0\n",
       "George Mason       0\n",
       "Butler             0\n",
       "Name: RSCI Top 100, dtype: int64"
      ]
     },
     "execution_count": 112,
     "metadata": {},
     "output_type": "execute_result"
    }
   ],
   "source": [
    "#top 100 players recruited by all teams over the years of our data\n",
    "team_ranking_count_total = team.groupby('Team')['RSCI Top 100'].count()\n",
    "team_ranking_count_total.sort_values(ascending=False)"
   ]
  },
  {
   "cell_type": "code",
   "execution_count": 113,
   "metadata": {},
   "outputs": [
    {
     "data": {
      "text/plain": [
       "Year  Team          \n",
       "2001  Arizona           5\n",
       "      Duke              5\n",
       "      Maryland          3\n",
       "      Michigan State    4\n",
       "2002  Indiana           4\n",
       "      Kansas            7\n",
       "      Maryland          4\n",
       "      Oklahoma          1\n",
       "2003  Kansas            5\n",
       "      Marquette         4\n",
       "      Syracuse          5\n",
       "      Texas             5\n",
       "2004  Duke              7\n",
       "      Georgia Tech      5\n",
       "      Oklahoma State    1\n",
       "      Uconn             7\n",
       "2005  Illinios          6\n",
       "      Louisville        5\n",
       "      Michigan State    7\n",
       "      North Carolina    7\n",
       "2006  Florida           4\n",
       "      George Mason      0\n",
       "      LSU               3\n",
       "      UCLA              5\n",
       "2007  Florida           5\n",
       "      Georgetown        3\n",
       "      Ohio State        6\n",
       "      UCLA              4\n",
       "2008  Kansas            8\n",
       "      Memphis           6\n",
       "                       ..\n",
       "2012  Louisville        4\n",
       "      Ohio State        4\n",
       "2013  Louisville        6\n",
       "      Michigan          3\n",
       "      Syracuse          5\n",
       "      Wichita State     0\n",
       "2014  Florida           5\n",
       "      Kentucky          8\n",
       "      UConn             4\n",
       "      Wisconsin         2\n",
       "2015  Duke              8\n",
       "      Kentucky          8\n",
       "      Michigan State    4\n",
       "      Wisconsin         2\n",
       "2016  North Carolina    8\n",
       "      Oklahoma          0\n",
       "      Syracuse          8\n",
       "      Villanova         7\n",
       "2017  Gonzaga           4\n",
       "      North Carolina    8\n",
       "      Oregon            3\n",
       "      South Carolina    2\n",
       "2018  Kansas            6\n",
       "      Loyola Chicago    0\n",
       "      Michigan          4\n",
       "      Villanova         5\n",
       "2019  Auburn            3\n",
       "      Michigan State    5\n",
       "      Texas Tech        1\n",
       "      Virginia          5\n",
       "Name: RSCI Top 100, Length: 76, dtype: int64"
      ]
     },
     "execution_count": 113,
     "metadata": {},
     "output_type": "execute_result"
    }
   ],
   "source": [
    "#top 100 players (their rankings) on teams in a given year\n",
    "year_team_ranking_list = team.groupby(['Year','Team'])['RSCI Top 100'].count()\n",
    "year_team_ranking_list"
   ]
  },
  {
   "cell_type": "code",
   "execution_count": 114,
   "metadata": {},
   "outputs": [
    {
     "data": {
      "text/plain": [
       "Year  Team            Winner\n",
       "2001  Arizona         No        8\n",
       "      Duke            Yes       8\n",
       "      Maryland        No        8\n",
       "      Michigan State  No        8\n",
       "2002  Indiana         No        8\n",
       "      Kansas          No        8\n",
       "      Maryland        Yes       7\n",
       "      Oklahoma        No        8\n",
       "2003  Kansas          No        8\n",
       "      Marquette       No        8\n",
       "      Syracuse        Yes       8\n",
       "      Texas           No        8\n",
       "2004  Duke            No        8\n",
       "      Georgia Tech    No        8\n",
       "      Oklahoma State  No        8\n",
       "      Uconn           Yes       8\n",
       "2005  Illinios        No        8\n",
       "      Louisville      No        8\n",
       "      Michigan State  No        8\n",
       "      North Carolina  Yes       8\n",
       "2006  Florida         Yes       8\n",
       "      George Mason    No        8\n",
       "      LSU             No        8\n",
       "      UCLA            No        8\n",
       "2007  Florida         Yes       8\n",
       "      Georgetown      No        8\n",
       "      Ohio State      No        8\n",
       "      UCLA            No        8\n",
       "2008  Kansas          Yes       8\n",
       "      Memphis         No        8\n",
       "                               ..\n",
       "2012  Louisville      No        8\n",
       "      Ohio State      No        8\n",
       "2013  Louisville      Yes       8\n",
       "      Michigan        No        8\n",
       "      Syracuse        No        8\n",
       "      Wichita State   No        8\n",
       "2014  Florida         No        8\n",
       "      Kentucky        No        8\n",
       "      UConn           Yes       8\n",
       "      Wisconsin       No        8\n",
       "2015  Duke            Yes       8\n",
       "      Kentucky        No        8\n",
       "      Michigan State  No        8\n",
       "      Wisconsin       No        8\n",
       "2016  North Carolina  No        8\n",
       "      Oklahoma        No        8\n",
       "      Syracuse        No        8\n",
       "      Villanova       Yes       8\n",
       "2017  Gonzaga         No        8\n",
       "      North Carolina  Yes       9\n",
       "      Oregon          No        8\n",
       "      South Carolina  No        8\n",
       "2018  Kansas          No        8\n",
       "      Loyola Chicago  No        8\n",
       "      Michigan        No        8\n",
       "      Villanova       Yes       8\n",
       "2019  Auburn          No        8\n",
       "      Michigan State  No        8\n",
       "      Texas Tech      No        8\n",
       "      Virginia        Yes       8\n",
       "Name: Winner, Length: 76, dtype: int64"
      ]
     },
     "execution_count": 114,
     "metadata": {},
     "output_type": "execute_result"
    }
   ],
   "source": [
    "#team occurrences championships - a way to show just Natl. Title winners would be to A) Remove all 'no' from excel or\n",
    "    # ask nate/TA how we can call just the 'yes' selection\n",
    "year_team_ranking_count = team.groupby(['Year','Team'])['Winner'].value_counts()\n",
    "year_team_ranking_count"
   ]
  },
  {
   "cell_type": "code",
   "execution_count": null,
   "metadata": {},
   "outputs": [],
   "source": []
  }
 ],
 "metadata": {
  "kernelspec": {
   "display_name": "Python 3",
   "language": "python",
   "name": "python3"
  },
  "language_info": {
   "codemirror_mode": {
    "name": "ipython",
    "version": 3
   },
   "file_extension": ".py",
   "mimetype": "text/x-python",
   "name": "python",
   "nbconvert_exporter": "python",
   "pygments_lexer": "ipython3",
   "version": "3.7.1"
  }
 },
 "nbformat": 4,
 "nbformat_minor": 2
}
