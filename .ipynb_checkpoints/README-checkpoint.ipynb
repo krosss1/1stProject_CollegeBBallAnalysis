{
 "cells": [
  {
   "cell_type": "markdown",
   "metadata": {},
   "source": [
    "# DU Data Viz - Project Proposal\n",
    "## Team Baldies"
   ]
  },
  {
   "cell_type": "markdown",
   "metadata": {},
   "source": [
    "## Who To Recruit For A NCAA Men's Basketball Championship"
   ]
  },
  {
   "cell_type": "markdown",
   "metadata": {},
   "source": [
    "### Can it be determined if the ranking of high school players and how a team is made up of those players can determine a teams Final Four/National Championship success.  We will analyze the past 20 years of Final Four teams to answer these questions.\n"
   ]
  },
  {
   "cell_type": "markdown",
   "metadata": {},
   "source": [
    "  \n",
    "    - Keith Ross ross.keith80@yahoo.com\n",
    "    - Brian Ross brosss@hotmail.com\n",
    "    - Jordan Whitney jordanmwhitney@gmail.com"
   ]
  },
  {
   "cell_type": "markdown",
   "metadata": {},
   "source": [
    "## Git Repo Url\n",
    "You can find our git repo [here](https://du.bootcampcontent.com/baross77/baldies_project.git)."
   ]
  },
  {
   "cell_type": "markdown",
   "metadata": {},
   "source": [
    "## Research Question:\n",
    "Inspiration Article:  [here](https://www.washingtonpost.com/graphics/2019/sports/march-madness-one-and-dones/?utm_term=.470a4caceb2a).\n",
    "\n",
    "- Should teams target specific rankings? IE: Do teams with more top 100 players do better than teams with less top 100 players\n",
    "- Do teams consisting of upperclassmen/experienced players perform better and advance to the final four?\n",
    "- When recruiting at the high school level, can conclusions be drawn about the location in which the student-athlete grew up?"
   ]
  },
  {
   "cell_type": "markdown",
   "metadata": {},
   "source": [
    "## Data Sets\n",
    "    \n",
    "- Rosters from https://www.sports-reference.com/cbb/\n",
    "- Recruiting rankings from https://sites.google.com/site/rscihoops/home"
   ]
  },
  {
   "cell_type": "markdown",
   "metadata": {},
   "source": [
    "## Task Planning\n",
    "\n",
    "Tasks:\n",
    "1. Compile team roster data \n",
    "2. Compile player ranking data\n",
    "3. Build out readme and task assignment\n",
    "4. Pull the datasets into python notebook\n",
    "5. organize and clean data to allow for easy analysis\n",
    "6. Explore data using pandas and matplotlib to find trends\n",
    "7. Begin to create plots to try and find trends not observable by the eye\n",
    "8. Analyze data that we wish to show to answer research questions\n",
    "9. Build plots to support data and trends we are finding\n",
    "10. Clean up notebook to ensure it is \"clean\" and ready for presentation\n",
    "\n"
   ]
  },
  {
   "cell_type": "code",
   "execution_count": null,
   "metadata": {},
   "outputs": [],
   "source": []
  }
 ],
 "metadata": {
  "kernelspec": {
   "display_name": "Python 3",
   "language": "python",
   "name": "python3"
  },
  "language_info": {
   "codemirror_mode": {
    "name": "ipython",
    "version": 3
   },
   "file_extension": ".py",
   "mimetype": "text/x-python",
   "name": "python",
   "nbconvert_exporter": "python",
   "pygments_lexer": "ipython3",
   "version": "3.7.1"
  }
 },
 "nbformat": 4,
 "nbformat_minor": 2
}
